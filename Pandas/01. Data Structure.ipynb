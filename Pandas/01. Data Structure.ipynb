{
 "cells": [
  {
   "cell_type": "markdown",
   "id": "8ee8b2b2",
   "metadata": {},
   "source": [
    "# Introduction to PANDAS"
   ]
  },
  {
   "cell_type": "raw",
   "id": "f35b1dc9-7aed-4229-9598-fc97fa893b33",
   "metadata": {},
   "source": [
    "Pandas deals with the following three data structures:\n",
    "    Series\n",
    "    DataFrame\n",
    "    Panel\n",
    "\n",
    "These data structures are built on top of Numpy array, which means they are fast.\n",
    "\n",
    "Dimension & Description\n",
    "The best way to think of these data structures is that the higher dimensional data structure is a container of its lower\n",
    "dimensional data structure. For example, DataFrame is a container of Series, Panel is a container of DataFrame.\n",
    "\n",
    "Data Structure  Dimensions   Description\n",
    "Series          1            1D labeled homogeneous array, sizeimmutable.\n",
    "Data Frames     2            General 2D labeled, size-mutable tabular structure with potentially heterogeneously typed columns.\n",
    "Panel           3            General 3D labeled, size-mutable array.\n",
    "\n",
    "Building and handling two or more dimensional arrays is a tedious task, burden is placed on the user to consider the\n",
    "orientation of the data set when writing functions. But using Pandas data structures, the mental effort of the user is\n",
    "reduced.\n",
    "\n",
    "For example, with tabular data (DataFrame) it is more semantically helpful to think of the index (the rows) and the columns\n",
    "rather than axis 0 and axis 1.\n",
    "\n",
    "Mutability\n",
    "\n",
    "All Pandas data structures are value mutable (can be changed) and except Series all are size mutable. Series is size immutable.\n",
    "\n",
    "Note − DataFrame is widely used and one of the most important data structures. Panel is used much less.\n"
   ]
  },
  {
   "cell_type": "markdown",
   "id": "353667fe",
   "metadata": {},
   "source": [
    "# Series"
   ]
  },
  {
   "cell_type": "raw",
   "id": "6c4a9f4f-97fc-4f36-82a9-9db4dc0e76c2",
   "metadata": {},
   "source": [
    "Series is a one-dimensional array like structure with homogeneous data.\n",
    "For example, the following series is a collection of integers 10, 23, 56, …\n",
    "\n",
    "10 \t23 \t56 \t17 \t52 \t61 \t73 \t90 \t26 \t72\n",
    "\n",
    "Key Points\n",
    "\n",
    "    Homogeneous data\n",
    "    Size Immutable\n",
    "    Values of Data Mutable\n",
    "    "
   ]
  },
  {
   "cell_type": "markdown",
   "id": "2e74ffb3",
   "metadata": {},
   "source": [
    "# DataFrame"
   ]
  },
  {
   "cell_type": "raw",
   "id": "89b2e98e-9aaf-4008-8b6c-391fc89ba2cd",
   "metadata": {},
   "source": [
    "DataFrame is a two-dimensional array with heterogeneous data. For example,\n",
    "\n",
    "      Name    Age     Gender      Rating\n",
    "      Steve   32      Male        3.45\n",
    "      Lia     28      Female      4.6\n",
    "      Vin     45      Male        3.9\n",
    "      Katie   38      Female      2.78\n",
    "\n",
    "The table represents the data of a sales team of an organization with their overall performance rating.\n",
    "The data is represented in rows and columns. Each column represents an attribute and each row represents a person.\n",
    "Data Type of Columns\n",
    "\n",
    "The data types of the four columns are as follows −\n",
    "      Column      Type\n",
    "      Name        String\n",
    "      Age         Integer\n",
    "      Gender      String\n",
    "      Rating      Float\n",
    "\n",
    "Key Points\n",
    "\n",
    "    Heterogeneous data\n",
    "    Size Mutable\n",
    "    Data Mutable\n"
   ]
  },
  {
   "cell_type": "markdown",
   "id": "83bef758",
   "metadata": {},
   "source": [
    "# Panel"
   ]
  },
  {
   "cell_type": "raw",
   "id": "32c082e2-483e-4a0f-ad9f-2e645598bce0",
   "metadata": {},
   "source": [
    "Panel is a three-dimensional data structure with heterogeneous data. It is hard to represent the panel in graphical\n",
    "representation. But a panel can be illustrated as a container of DataFrame.\n",
    "Key Points\n",
    "\n",
    "    Heterogeneous data\n",
    "    Size Mutable\n",
    "    Data Mutable\n"
   ]
  }
 ],
 "metadata": {
  "kernelspec": {
   "display_name": "Python 3",
   "language": "python",
   "name": "python3"
  },
  "language_info": {
   "codemirror_mode": {
    "name": "ipython",
    "version": 3
   },
   "file_extension": ".py",
   "mimetype": "text/x-python",
   "name": "python",
   "nbconvert_exporter": "python",
   "pygments_lexer": "ipython3",
   "version": "3.8.5"
  }
 },
 "nbformat": 4,
 "nbformat_minor": 5
}
