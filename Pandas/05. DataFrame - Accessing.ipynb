{
 "cells": [
  {
   "cell_type": "markdown",
   "id": "02e9c5f9",
   "metadata": {},
   "source": [
    "# Accessing row in DataFrame"
   ]
  },
  {
   "cell_type": "code",
   "execution_count": 1,
   "id": "8a6ec6e0",
   "metadata": {},
   "outputs": [
    {
     "name": "stdout",
     "output_type": "stream",
     "text": [
      "   calories  duration\n",
      "0       420        50\n",
      "1       380        40\n",
      "2       390        45\n",
      "3       234       213\n",
      "4       543       546\n",
      "5       267       342\n"
     ]
    }
   ],
   "source": [
    "import pandas as pd\n",
    "\n",
    "data = {\n",
    "  \"calories\": [420, 380, 390, 234, 543, 267],\n",
    "  \"duration\": [50, 40, 45, 213, 546, 342]\n",
    "}\n",
    "\n",
    "#load data into a DataFrame object:\n",
    "df = pd.DataFrame(data)\n",
    "\n",
    "print(df) "
   ]
  },
  {
   "cell_type": "code",
   "execution_count": 17,
   "id": "8f687c1b",
   "metadata": {},
   "outputs": [
    {
     "data": {
      "text/plain": [
       "0    420\n",
       "1    380\n",
       "2    390\n",
       "Name: calories, dtype: int64"
      ]
     },
     "execution_count": 17,
     "metadata": {},
     "output_type": "execute_result"
    }
   ],
   "source": [
    "df.loc[:2,'calories']"
   ]
  },
  {
   "cell_type": "code",
   "execution_count": 82,
   "id": "6b8f4dba",
   "metadata": {},
   "outputs": [
    {
     "name": "stdout",
     "output_type": "stream",
     "text": [
      "0    420\n",
      "1    380\n",
      "2    390\n",
      "3    234\n",
      "4    543\n",
      "5    267\n",
      "Name: calories, dtype: int64\n"
     ]
    }
   ],
   "source": [
    "print(df['calories'])"
   ]
  },
  {
   "cell_type": "markdown",
   "id": "e01df811",
   "metadata": {},
   "source": [
    "Sử dụng loc để lấy truy xuất giá trị của dòng và cột, nếu tham số cột không có thì mặc định sẽ load hết dataframe\n",
    "\n",
    "Cấu trúc như sau:\n",
    "\n",
    "    df.loc[row_indexer:column_indexer] hoặc \n",
    "    df.iloc[row_indexer:column_indexer]\n",
    "    \n",
    "Chú ý: Về cơ bản, loc và iloc là như nhau.\n",
    "\n",
    ".loc khi muốn truy xuất cột thì phải truyền label của column. Ví dụ: 'calories', hoặc 'duaration'. Giá trị được lấy đến n\n",
    "\n",
    ".iloc khi muốn truy xuất cột thì phải dùng số thứ tự của column bắt đầu = 0. Ví dụ: 1, 3. Giá trị được lấy đêan n-1."
   ]
  },
  {
   "cell_type": "code",
   "execution_count": 2,
   "id": "8c862d4d",
   "metadata": {},
   "outputs": [
    {
     "name": "stdout",
     "output_type": "stream",
     "text": [
      "calories    420\n",
      "duration     50\n",
      "Name: 0, dtype: int64\n"
     ]
    }
   ],
   "source": [
    "\n",
    "# Truy xuất dòng đầu tiên của dataframe\n",
    "print(df.loc[0])\n",
    "\n",
    "# Truy xuất từ dòng thứ 2 đến dòng thứ 4 dataframe\n",
    "print(df.loc[2:4])\n",
    "\n",
    "# Truy xuất từ dòng đầu tiên đến dòng thứ 3\n",
    "print(df.loc[:3])\n",
    "\n",
    "# Truy xuất từ dòng thứ 3 đến cuối dataframe\n",
    "print(df.loc[3:])\n",
    "\n",
    "# Chúng ta sử dụng list các index trong loc để truy xuất đến các dòng không liền nhau\n",
    "print(df.loc[[1,3,5]])\n",
    "\n",
    "# Chúng ta còn có thể truy xuất đến dòng bằng cách sử dụng label của dòng\n",
    "print(df.loc['day1'])\n",
    "\n",
    "# Xuất dữ liệu ở columns 'calories' từ dòng đầu tiên đến dòng thứ 2\n",
    "print(df.loc[:2,'calories'])\n",
    "\n",
    "# Xuất dữ liệu ở columns 'calories'\n",
    "print(df.loc[:,'calories']) # dấu 2 chấm cũng có thể được bỏ đi"
   ]
  },
  {
   "cell_type": "markdown",
   "id": "925657f4",
   "metadata": {},
   "source": [
    "# Accessing column in DataFrame"
   ]
  },
  {
   "cell_type": "code",
   "execution_count": 18,
   "id": "10103bb7",
   "metadata": {},
   "outputs": [
    {
     "name": "stdout",
     "output_type": "stream",
     "text": [
      "a    1.0\n",
      "b    2.0\n",
      "c    3.0\n",
      "d    NaN\n",
      "Name: one, dtype: float64\n",
      "   one  two\n",
      "a  1.0    1\n",
      "b  2.0    2\n",
      "c  3.0    3\n",
      "d  NaN    4\n"
     ]
    }
   ],
   "source": [
    "import pandas as pd\n",
    "\n",
    "d = {'one' : pd.Series([1, 2, 3], index=['a', 'b', 'c']),\n",
    "   'two' : pd.Series([1, 2, 3, 4], index=['a', 'b', 'c', 'd'])}\n",
    "df = pd.DataFrame(d)\n",
    "# Truy xuất 1 columns trong dataframe\n",
    "print (df['one']) \n",
    "\n",
    "# Truy xuất 2 columns trong dataframe\n",
    "print (df[['one','two']]) "
   ]
  },
  {
   "cell_type": "code",
   "execution_count": null,
   "id": "470d81c2",
   "metadata": {},
   "outputs": [],
   "source": []
  },
  {
   "cell_type": "code",
   "execution_count": null,
   "id": "91f99547",
   "metadata": {},
   "outputs": [],
   "source": []
  },
  {
   "cell_type": "code",
   "execution_count": null,
   "id": "f24f76ad",
   "metadata": {},
   "outputs": [],
   "source": []
  },
  {
   "cell_type": "code",
   "execution_count": null,
   "id": "1583c779",
   "metadata": {},
   "outputs": [],
   "source": []
  }
 ],
 "metadata": {
  "kernelspec": {
   "display_name": "Python 3",
   "language": "python",
   "name": "python3"
  },
  "language_info": {
   "codemirror_mode": {
    "name": "ipython",
    "version": 3
   },
   "file_extension": ".py",
   "mimetype": "text/x-python",
   "name": "python",
   "nbconvert_exporter": "python",
   "pygments_lexer": "ipython3",
   "version": "3.8.5"
  }
 },
 "nbformat": 4,
 "nbformat_minor": 5
}
