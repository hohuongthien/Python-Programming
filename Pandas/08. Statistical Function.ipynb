{
 "cells": [
  {
   "cell_type": "raw",
   "id": "5788c6bf",
   "metadata": {},
   "source": [
    "Một số khái niệm trong thống kê:\n",
    "\n",
    "- Mean (trung bình cộng): Giá trị trung bình cộng\n",
    "- Correlation: Thể hiện sự tương quan giữa các biến với nhau. Giá trị càng gần = 1 thể hiện sự tương quan càng cao.\n",
    "- Median: là giá trị ở của dãy giá trị.\n",
    "- Standard Deviation (std): Độ lệch chuẩn đo lường độ phân tán của tập dữ liệu so với giá trị trung bình của nó và được tính là căn bậc hai của phương sai."
   ]
  },
  {
   "cell_type": "code",
   "execution_count": null,
   "id": "0bfde9e8",
   "metadata": {},
   "outputs": [],
   "source": []
  },
  {
   "cell_type": "raw",
   "id": "5a1212b4",
   "metadata": {},
   "source": [
    "    df.mean() Trả về giá trị trung bình của tất cả các columns.\n",
    "    df.corr() Trả về giá trị tương quan giữa các columns trong dataframe.\n",
    "    df.count() Trả về số lượng các giá trị Null của mỗi cột trong dataframe.\n",
    "    df.max() Trả về giá trị lớn nhất của mỗi columns trong dataframe.\n",
    "    df.min() Trả về giá trị nhỏ nhất của mỗi columns trong dataframe.\n",
    "    df.median() Trả về giá trị ở giữa (trung vị) của mỗi columns.\n",
    "    df.std() Trả về giá trị độ lệch chuẩn của mỗi columns.\n",
    "    df.value_counts() đếm số lượng dữ liệu đối với từng giá trị trong mỗi column, giá trị NaN sẽ không count."
   ]
  },
  {
   "cell_type": "code",
   "execution_count": 9,
   "id": "44b83178",
   "metadata": {},
   "outputs": [
    {
     "data": {
      "text/html": [
       "<div>\n",
       "<style scoped>\n",
       "    .dataframe tbody tr th:only-of-type {\n",
       "        vertical-align: middle;\n",
       "    }\n",
       "\n",
       "    .dataframe tbody tr th {\n",
       "        vertical-align: top;\n",
       "    }\n",
       "\n",
       "    .dataframe thead th {\n",
       "        text-align: right;\n",
       "    }\n",
       "</style>\n",
       "<table border=\"1\" class=\"dataframe\">\n",
       "  <thead>\n",
       "    <tr style=\"text-align: right;\">\n",
       "      <th></th>\n",
       "      <th>Name</th>\n",
       "      <th>Age</th>\n",
       "      <th>Rating</th>\n",
       "    </tr>\n",
       "  </thead>\n",
       "  <tbody>\n",
       "    <tr>\n",
       "      <th>0</th>\n",
       "      <td>Tom</td>\n",
       "      <td>25</td>\n",
       "      <td>4.23</td>\n",
       "    </tr>\n",
       "    <tr>\n",
       "      <th>1</th>\n",
       "      <td>James</td>\n",
       "      <td>26</td>\n",
       "      <td>3.24</td>\n",
       "    </tr>\n",
       "    <tr>\n",
       "      <th>2</th>\n",
       "      <td>Ricky</td>\n",
       "      <td>25</td>\n",
       "      <td>3.98</td>\n",
       "    </tr>\n",
       "    <tr>\n",
       "      <th>3</th>\n",
       "      <td>Vin</td>\n",
       "      <td>23</td>\n",
       "      <td>2.56</td>\n",
       "    </tr>\n",
       "    <tr>\n",
       "      <th>4</th>\n",
       "      <td>Steve</td>\n",
       "      <td>30</td>\n",
       "      <td>3.20</td>\n",
       "    </tr>\n",
       "  </tbody>\n",
       "</table>\n",
       "</div>"
      ],
      "text/plain": [
       "    Name  Age  Rating\n",
       "0    Tom   25    4.23\n",
       "1  James   26    3.24\n",
       "2  Ricky   25    3.98\n",
       "3    Vin   23    2.56\n",
       "4  Steve   30    3.20"
      ]
     },
     "execution_count": 9,
     "metadata": {},
     "output_type": "execute_result"
    }
   ],
   "source": [
    "#Để thực hành một số function cơ bản, ta tiến hành tạo 1 dataframe như sau\n",
    "\n",
    "import pandas as pd\n",
    "import numpy as np\n",
    "\n",
    "# Tạo dictionary với cặp dữ liệu key:value, trong đó value là một list\n",
    "d = {'Name':['Tom','James','Ricky','Vin','Steve','Smith','Jack'],\n",
    "   'Age':[25,26,25,23,30,29,23],\n",
    "   'Rating':[4.23,3.24,3.98,2.56,3.20,4.6,3.8]}\n",
    "\n",
    "data = pd.DataFrame(d) # Lệnh tạo một dataframe từ dictionary 'd'\n",
    "data.head()"
   ]
  },
  {
   "cell_type": "code",
   "execution_count": 3,
   "id": "f3976856",
   "metadata": {},
   "outputs": [
    {
     "data": {
      "text/html": [
       "<div>\n",
       "<style scoped>\n",
       "    .dataframe tbody tr th:only-of-type {\n",
       "        vertical-align: middle;\n",
       "    }\n",
       "\n",
       "    .dataframe tbody tr th {\n",
       "        vertical-align: top;\n",
       "    }\n",
       "\n",
       "    .dataframe thead th {\n",
       "        text-align: right;\n",
       "    }\n",
       "</style>\n",
       "<table border=\"1\" class=\"dataframe\">\n",
       "  <thead>\n",
       "    <tr style=\"text-align: right;\">\n",
       "      <th></th>\n",
       "      <th>Age</th>\n",
       "      <th>Rating</th>\n",
       "    </tr>\n",
       "  </thead>\n",
       "  <tbody>\n",
       "    <tr>\n",
       "      <th>Age</th>\n",
       "      <td>1.000000</td>\n",
       "      <td>0.259006</td>\n",
       "    </tr>\n",
       "    <tr>\n",
       "      <th>Rating</th>\n",
       "      <td>0.259006</td>\n",
       "      <td>1.000000</td>\n",
       "    </tr>\n",
       "  </tbody>\n",
       "</table>\n",
       "</div>"
      ],
      "text/plain": [
       "             Age    Rating\n",
       "Age     1.000000  0.259006\n",
       "Rating  0.259006  1.000000"
      ]
     },
     "execution_count": 3,
     "metadata": {},
     "output_type": "execute_result"
    }
   ],
   "source": [
    "# Thể hiện giá trị tương quan giữa các cột\n",
    "# Giá trị càng gần = 1 thể hiện sự tương quan càng lớn.\n",
    "\n",
    "data.corr()"
   ]
  },
  {
   "cell_type": "code",
   "execution_count": 7,
   "id": "915ce2f9",
   "metadata": {},
   "outputs": [
    {
     "name": "stderr",
     "output_type": "stream",
     "text": [
      "C:\\Users\\HUONGT~1\\AppData\\Local\\Temp/ipykernel_9176/4184645713.py:1: FutureWarning: Dropping of nuisance columns in DataFrame reductions (with 'numeric_only=None') is deprecated; in a future version this will raise TypeError.  Select only valid columns before calling the reduction.\n",
      "  data.median()\n"
     ]
    },
    {
     "data": {
      "text/plain": [
       "Age       25.0\n",
       "Rating     3.8\n",
       "dtype: float64"
      ]
     },
     "execution_count": 7,
     "metadata": {},
     "output_type": "execute_result"
    }
   ],
   "source": [
    "data.median()"
   ]
  },
  {
   "cell_type": "code",
   "execution_count": null,
   "id": "d40fbbbd",
   "metadata": {},
   "outputs": [],
   "source": [
    "data.std()"
   ]
  },
  {
   "cell_type": "code",
   "execution_count": null,
   "id": "2bd9f978",
   "metadata": {},
   "outputs": [],
   "source": []
  },
  {
   "cell_type": "markdown",
   "id": "fd92ebfa",
   "metadata": {},
   "source": [
    "# Summarizing Data\n",
    "Ngoài việc sử dụng các hàm thông kê riêng lẻ, ta sử dụng hàm describe() để xem các thông số: mean, median, std...\n",
    "\n",
    "Hàm describe() được sử dụng với tham số include. Tham số include() này mặc định sẽ được bỏ qua. Khi đó, việc describe() sẽ được thực hiện trên các columns là number.\n",
    "\n",
    "Tham số include bao gồm 3 giá trị.\n",
    "- object − Summarizes String columns\n",
    "- number − Summarizes Numeric columns\n",
    "- all − Summarizes all columns together (Should not pass it as a list value)"
   ]
  },
  {
   "cell_type": "code",
   "execution_count": 11,
   "id": "aad07b15",
   "metadata": {},
   "outputs": [
    {
     "data": {
      "text/html": [
       "<div>\n",
       "<style scoped>\n",
       "    .dataframe tbody tr th:only-of-type {\n",
       "        vertical-align: middle;\n",
       "    }\n",
       "\n",
       "    .dataframe tbody tr th {\n",
       "        vertical-align: top;\n",
       "    }\n",
       "\n",
       "    .dataframe thead th {\n",
       "        text-align: right;\n",
       "    }\n",
       "</style>\n",
       "<table border=\"1\" class=\"dataframe\">\n",
       "  <thead>\n",
       "    <tr style=\"text-align: right;\">\n",
       "      <th></th>\n",
       "      <th>Name</th>\n",
       "      <th>Age</th>\n",
       "      <th>Rating</th>\n",
       "    </tr>\n",
       "  </thead>\n",
       "  <tbody>\n",
       "    <tr>\n",
       "      <th>count</th>\n",
       "      <td>7</td>\n",
       "      <td>7.000000</td>\n",
       "      <td>7.000000</td>\n",
       "    </tr>\n",
       "    <tr>\n",
       "      <th>unique</th>\n",
       "      <td>7</td>\n",
       "      <td>NaN</td>\n",
       "      <td>NaN</td>\n",
       "    </tr>\n",
       "    <tr>\n",
       "      <th>top</th>\n",
       "      <td>Tom</td>\n",
       "      <td>NaN</td>\n",
       "      <td>NaN</td>\n",
       "    </tr>\n",
       "    <tr>\n",
       "      <th>freq</th>\n",
       "      <td>1</td>\n",
       "      <td>NaN</td>\n",
       "      <td>NaN</td>\n",
       "    </tr>\n",
       "    <tr>\n",
       "      <th>mean</th>\n",
       "      <td>NaN</td>\n",
       "      <td>25.857143</td>\n",
       "      <td>3.658571</td>\n",
       "    </tr>\n",
       "    <tr>\n",
       "      <th>std</th>\n",
       "      <td>NaN</td>\n",
       "      <td>2.734262</td>\n",
       "      <td>0.698628</td>\n",
       "    </tr>\n",
       "    <tr>\n",
       "      <th>min</th>\n",
       "      <td>NaN</td>\n",
       "      <td>23.000000</td>\n",
       "      <td>2.560000</td>\n",
       "    </tr>\n",
       "    <tr>\n",
       "      <th>25%</th>\n",
       "      <td>NaN</td>\n",
       "      <td>24.000000</td>\n",
       "      <td>3.220000</td>\n",
       "    </tr>\n",
       "    <tr>\n",
       "      <th>50%</th>\n",
       "      <td>NaN</td>\n",
       "      <td>25.000000</td>\n",
       "      <td>3.800000</td>\n",
       "    </tr>\n",
       "    <tr>\n",
       "      <th>75%</th>\n",
       "      <td>NaN</td>\n",
       "      <td>27.500000</td>\n",
       "      <td>4.105000</td>\n",
       "    </tr>\n",
       "    <tr>\n",
       "      <th>max</th>\n",
       "      <td>NaN</td>\n",
       "      <td>30.000000</td>\n",
       "      <td>4.600000</td>\n",
       "    </tr>\n",
       "  </tbody>\n",
       "</table>\n",
       "</div>"
      ],
      "text/plain": [
       "       Name        Age    Rating\n",
       "count     7   7.000000  7.000000\n",
       "unique    7        NaN       NaN\n",
       "top     Tom        NaN       NaN\n",
       "freq      1        NaN       NaN\n",
       "mean    NaN  25.857143  3.658571\n",
       "std     NaN   2.734262  0.698628\n",
       "min     NaN  23.000000  2.560000\n",
       "25%     NaN  24.000000  3.220000\n",
       "50%     NaN  25.000000  3.800000\n",
       "75%     NaN  27.500000  4.105000\n",
       "max     NaN  30.000000  4.600000"
      ]
     },
     "execution_count": 11,
     "metadata": {},
     "output_type": "execute_result"
    }
   ],
   "source": [
    "data.describe(include='all')"
   ]
  },
  {
   "cell_type": "code",
   "execution_count": null,
   "id": "8fbbb646",
   "metadata": {},
   "outputs": [],
   "source": []
  }
 ],
 "metadata": {
  "kernelspec": {
   "display_name": "Python 3",
   "language": "python",
   "name": "python3"
  },
  "language_info": {
   "codemirror_mode": {
    "name": "ipython",
    "version": 3
   },
   "file_extension": ".py",
   "mimetype": "text/x-python",
   "name": "python",
   "nbconvert_exporter": "python",
   "pygments_lexer": "ipython3",
   "version": "3.8.5"
  }
 },
 "nbformat": 4,
 "nbformat_minor": 5
}
