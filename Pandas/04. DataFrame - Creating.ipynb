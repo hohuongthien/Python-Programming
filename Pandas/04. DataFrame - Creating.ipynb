{
 "cells": [
  {
   "cell_type": "markdown",
   "id": "179384df",
   "metadata": {},
   "source": [
    "DataFrame là loại cấu trúc dữ liệu 2 chiều (dòng x cột). Dữ liệu được sắp xếp theo hàng và cột (rows and columns) dưới dạng table. Để dễ hiểu, chúng ta có thể hình dung DataFrame giống như table trong Excel.\n",
    "\n",
    "Đặc điểm của DataFrame:\n",
    "\n",
    "    - Loại dữ liệu ở các cột là khác nhau.\n",
    "    - Kích thước và giá trị trong bảng có thể thay đổi được.\n",
    "    - Các trục được gán nhãn bằng hàng và cột (rows and columns)\n",
    "    - Có thể thực hiện các phép toán số học trong các hàng và cột.\n",
    "\n",
    "DataFrame được tạo bằng cấu trúc như sau:\n",
    "\n",
    "    pandas.DataFrame( data, index, columns, dtype, copy)\n",
    "\n",
    "Trong đó:\n",
    "\n",
    "    - data: có thể là array, list, dict, series\n",
    "    - index: dùng cho hàng.\n",
    "    - columns: label của cột.\n",
    "    - dtype: loại dữ liệu của mỗi cột.\n",
    "\n",
    "DataFrame có thể được tạo từ các dữ liệu khác như: List, dictionary, ndarray, series, dataframe khác.\n"
   ]
  },
  {
   "cell_type": "markdown",
   "id": "474fe83c",
   "metadata": {},
   "source": [
    "# Create an Empty DataFrame"
   ]
  },
  {
   "cell_type": "code",
   "execution_count": 8,
   "id": "6a1ffe22",
   "metadata": {},
   "outputs": [
    {
     "name": "stdout",
     "output_type": "stream",
     "text": [
      "Empty DataFrame\n",
      "Columns: []\n",
      "Index: []\n"
     ]
    }
   ],
   "source": [
    "# Tạo một dataframe rỗng\n",
    "import pandas as pd\n",
    "\n",
    "df = pd.DataFrame()\n",
    "\n",
    "print (df)"
   ]
  },
  {
   "cell_type": "markdown",
   "id": "0ee6a3f7",
   "metadata": {},
   "source": [
    "# Create a DataFrame from ndarray"
   ]
  },
  {
   "cell_type": "code",
   "execution_count": 1,
   "id": "f69d7306",
   "metadata": {},
   "outputs": [
    {
     "name": "stdout",
     "output_type": "stream",
     "text": [
      "   0\n",
      "0  1\n",
      "1  2\n",
      "2  3\n",
      "3  4\n",
      "4  5\n"
     ]
    }
   ],
   "source": [
    "import pandas as pd\n",
    "import numpy as np\n",
    "\n",
    "arr = np.array([1,2,3,4,5])\n",
    "\n",
    "df = pd.DataFrame(arr) # Tạo một dataframe từ ndarray 'arr'\n",
    "\n",
    "print (df)"
   ]
  },
  {
   "cell_type": "code",
   "execution_count": 19,
   "id": "32ecef2b",
   "metadata": {},
   "outputs": [
    {
     "data": {
      "text/plain": [
       "pandas.core.frame.DataFrame"
      ]
     },
     "execution_count": 19,
     "metadata": {},
     "output_type": "execute_result"
    }
   ],
   "source": [
    "type(df)"
   ]
  },
  {
   "cell_type": "markdown",
   "id": "d7e3d013",
   "metadata": {},
   "source": [
    "# Create a DataFrame from Lists"
   ]
  },
  {
   "cell_type": "code",
   "execution_count": 18,
   "id": "f538b573",
   "metadata": {},
   "outputs": [
    {
     "name": "stdout",
     "output_type": "stream",
     "text": [
      "   0\n",
      "0  1\n",
      "1  2\n",
      "2  3\n",
      "3  4\n",
      "4  5\n"
     ]
    }
   ],
   "source": [
    "import pandas as pd\n",
    "\n",
    "data = [1,2,3,4,5]\n",
    "df = pd.DataFrame(data) # Tạo một dataframe từ list data\n",
    "\n",
    "print (df)"
   ]
  },
  {
   "cell_type": "markdown",
   "id": "a16d65a9",
   "metadata": {},
   "source": [
    "# Create a DataFrame from List of List"
   ]
  },
  {
   "cell_type": "code",
   "execution_count": 22,
   "id": "7679cb65",
   "metadata": {},
   "outputs": [
    {
     "name": "stdout",
     "output_type": "stream",
     "text": [
      "     Tên  Tuổi\n",
      "0  Thanh    10\n",
      "1    Tâm    12\n",
      "2   Bình    13\n"
     ]
    }
   ],
   "source": [
    "import pandas as pd\n",
    "# List chứa các list dữ liệu\n",
    "data = [['Thanh',10],['Tâm',12],['Bình',13]] \n",
    "# Tạo dataframe từ list với 2 columns 'Tên' và 'Tuổi'\n",
    "df = pd.DataFrame(data,columns=['Tên','Tuổi']) \n",
    "\n",
    "print (df)"
   ]
  },
  {
   "cell_type": "markdown",
   "id": "54bc03b5",
   "metadata": {},
   "source": [
    "# Create a DataFrame from List of Dicts"
   ]
  },
  {
   "cell_type": "code",
   "execution_count": 30,
   "id": "e3daa59d",
   "metadata": {},
   "outputs": [
    {
     "name": "stdout",
     "output_type": "stream",
     "text": [
      "   a   b   c\n",
      "0  1   2  10\n",
      "1  5  10  20\n"
     ]
    }
   ],
   "source": [
    "# Ví dụ 1: Tạo Dataframe từ list chức các dictionary\n",
    "import pandas as pd\n",
    "\n",
    "data = [{'a': 1, 'b': 2, 'c':10}, {'a': 5, 'b': 10, 'c': 20}] # list chức 2 dictionary\n",
    "\n",
    "df = pd.DataFrame(data)\n",
    "\n",
    "print (df)"
   ]
  },
  {
   "cell_type": "code",
   "execution_count": 33,
   "id": "d7a8c8ec",
   "metadata": {},
   "outputs": [
    {
     "name": "stdout",
     "output_type": "stream",
     "text": [
      "        a   b     c\n",
      "first   1   2   NaN\n",
      "second  5  10  20.0\n"
     ]
    }
   ],
   "source": [
    "# Ví dụ 2: \n",
    "import pandas as pd\n",
    "\n",
    "data = [{'a': 1, 'b': 2},{'a': 5, 'b': 10, 'c': 20}]\n",
    "\n",
    "# Giống ví dụ 1 nhưng có thêm tham số index,nếu kg có tham số index thì mặc định là 0, 1, 2\n",
    "df = pd.DataFrame(data, index=['first', 'second'])\n",
    "\n",
    "print (df)"
   ]
  },
  {
   "cell_type": "markdown",
   "id": "7437b714",
   "metadata": {},
   "source": [
    "# Create a DataFrame from Dict of ndarrays / Lists"
   ]
  },
  {
   "cell_type": "code",
   "execution_count": 25,
   "id": "3c519863",
   "metadata": {},
   "outputs": [
    {
     "name": "stdout",
     "output_type": "stream",
     "text": [
      "    Name  Age\n",
      "0  Thành   28\n",
      "1  Trung   34\n",
      "2   Hưng   29\n",
      "3  Phong   42\n"
     ]
    }
   ],
   "source": [
    "import pandas as pd\n",
    "\n",
    "# Dictionary chứa cặp key:value\n",
    "# Trong đó value là list các giá trị\n",
    "data = {'Name':['Thành', 'Trung', 'Hưng', 'Phong'],\n",
    "        'Age':[28,34,29,42]}\n",
    "\n",
    "df = pd.DataFrame(data)\n",
    "\n",
    "print (df)"
   ]
  },
  {
   "cell_type": "code",
   "execution_count": null,
   "id": "6d1ea62e",
   "metadata": {},
   "outputs": [],
   "source": [
    "# Ví dụ 2\n",
    "import pandas as pd\n",
    "\n",
    "data = {'Name':['Tom', 'Jack', 'Steve', 'Ricky'],'Age':[28,34,29,42]}\n",
    "\n",
    "df = pd.DataFrame(data, index=['rank1','rank2','rank3','rank4']) # Giống ví dụ 1, nhưng thêm tham số index\n",
    "\n",
    "print (df)\n"
   ]
  },
  {
   "cell_type": "markdown",
   "id": "559c9684",
   "metadata": {},
   "source": [
    "# Create a DataFrame from Dict of Series"
   ]
  },
  {
   "cell_type": "code",
   "execution_count": 23,
   "id": "d6e7f177",
   "metadata": {},
   "outputs": [
    {
     "name": "stdout",
     "output_type": "stream",
     "text": [
      "   one  two  three  four\n",
      "a  1.0    5      9    13\n",
      "b  2.0    6     10    14\n",
      "c  3.0    7     11    15\n",
      "d  NaN    8     12    16\n"
     ]
    }
   ],
   "source": [
    "import pandas as pd\n",
    "\n",
    "d = {'one' : pd.Series([1, 2, 3], index=['a', 'b', 'c']),\n",
    "   'two' : pd.Series([5, 6, 7, 8], index=['a', 'b', 'c', 'd']),\n",
    "    'three' : pd.Series([9, 10, 11, 12], index=['a', 'b', 'c', 'd']),\n",
    "    'four' : pd.Series([13, 14, 15, 16], index=['a', 'b', 'c', 'd'])}\n",
    "\n",
    "df = pd.DataFrame(d)\n",
    "print (df)"
   ]
  },
  {
   "cell_type": "code",
   "execution_count": 10,
   "id": "b13163d2",
   "metadata": {},
   "outputs": [],
   "source": [
    "# Lấy 2 columns ở dataframe 'df' để tạo thành 1 dataframe mới\n",
    "new_df = pd.DataFrame(df, columns = ['one','three'])\n"
   ]
  },
  {
   "cell_type": "markdown",
   "id": "b01f9b47",
   "metadata": {},
   "source": [
    "# Create a DataFrame from another DataFrame"
   ]
  },
  {
   "cell_type": "code",
   "execution_count": 13,
   "id": "ad5c7d91",
   "metadata": {},
   "outputs": [],
   "source": [
    "# Cách đơn giản\n",
    "# Lấy 2 columns ở dataframe 'df' để tạo thành 1 dataframe mới\n",
    "\n",
    "new = df[['one','three']]"
   ]
  },
  {
   "cell_type": "code",
   "execution_count": 14,
   "id": "1031afe2",
   "metadata": {},
   "outputs": [
    {
     "name": "stdout",
     "output_type": "stream",
     "text": [
      "   one  three\n",
      "a  1.0      9\n",
      "b  2.0     10\n",
      "c  3.0     11\n",
      "d  NaN     12\n"
     ]
    }
   ],
   "source": [
    "print (new)"
   ]
  },
  {
   "cell_type": "markdown",
   "id": "78a8fd80",
   "metadata": {},
   "source": [
    "# Insert columns to DataFrame\n"
   ]
  },
  {
   "cell_type": "code",
   "execution_count": 9,
   "id": "b2548c8e",
   "metadata": {},
   "outputs": [
    {
     "name": "stdout",
     "output_type": "stream",
     "text": [
      "   one  two  three  four\n",
      "a  1.0    5      9    13\n",
      "b  2.0    6     10    14\n",
      "c  3.0    7     11    15\n",
      "d  NaN    8     12    16\n"
     ]
    }
   ],
   "source": [
    "import pandas as pd\n",
    "\n",
    "d = {'one' : pd.Series([1, 2, 3], index=['a', 'b', 'c']),\n",
    "   'two' : pd.Series([5, 6, 7, 8], index=['a', 'b', 'c', 'd']),\n",
    "    'three' : pd.Series([9, 10, 11, 12], index=['a', 'b', 'c', 'd']),\n",
    "    'four' : pd.Series([13, 14, 15, 16], index=['a', 'b', 'c', 'd'])}\n",
    "\n",
    "df = pd.DataFrame(d)\n",
    "print (df)"
   ]
  },
  {
   "cell_type": "code",
   "execution_count": 15,
   "id": "7af7813c",
   "metadata": {},
   "outputs": [],
   "source": [
    "# Giả sử ta đang có 1 DataFrame 4 columns như trên\n",
    "# Ta thêm 1 columns thứ 5 vào với giá trị là list a\n",
    "\n",
    "a = ['3','5','7','8']\n",
    "\n",
    "df['five'] = a"
   ]
  },
  {
   "cell_type": "code",
   "execution_count": 11,
   "id": "aa8eeff3",
   "metadata": {},
   "outputs": [],
   "source": [
    "# Thêm 1 columns với giá trị = cột 4 * 2\n",
    "df['five'] = df['four'] * 2\n"
   ]
  },
  {
   "cell_type": "code",
   "execution_count": null,
   "id": "1a83e6d7",
   "metadata": {},
   "outputs": [],
   "source": []
  }
 ],
 "metadata": {
  "kernelspec": {
   "display_name": "Python 3",
   "language": "python",
   "name": "python3"
  },
  "language_info": {
   "codemirror_mode": {
    "name": "ipython",
    "version": 3
   },
   "file_extension": ".py",
   "mimetype": "text/x-python",
   "name": "python",
   "nbconvert_exporter": "python",
   "pygments_lexer": "ipython3",
   "version": "3.8.5"
  }
 },
 "nbformat": 4,
 "nbformat_minor": 5
}
