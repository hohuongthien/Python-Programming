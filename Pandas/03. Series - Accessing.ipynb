{
 "cells": [
  {
   "cell_type": "markdown",
   "id": "9540acae",
   "metadata": {},
   "source": [
    "# Accessing Data from Series\n",
    "Dữ liệu trong Series được truy xuất tương tự trong mảng (ndarray)\n",
    "Truy xuất dữ liệu trong Series được thực hiện thông qua 2 cách:\n",
    "- Index\n",
    "- Label"
   ]
  },
  {
   "cell_type": "markdown",
   "id": "b04f2a2c",
   "metadata": {},
   "source": [
    "# Accessing by index"
   ]
  },
  {
   "cell_type": "code",
   "execution_count": 1,
   "id": "3999540d",
   "metadata": {},
   "outputs": [
    {
     "name": "stdout",
     "output_type": "stream",
     "text": [
      "1\n"
     ]
    }
   ],
   "source": [
    "# Truy xuất phần tử đầu tiên của Series\n",
    "\n",
    "import pandas as pd\n",
    "import numpy as np\n",
    "\n",
    "a = np.array([10, 32, 53, 14, 25])\n",
    "\n",
    "s = pd.Series(a,index = ['a','b','c','d','e'])\n",
    "\n",
    "print (s[0])"
   ]
  },
  {
   "cell_type": "code",
   "execution_count": 4,
   "id": "cf7c7caa",
   "metadata": {},
   "outputs": [
    {
     "name": "stdout",
     "output_type": "stream",
     "text": [
      "a    10\n",
      "b    32\n",
      "c    53\n",
      "dtype: int32\n"
     ]
    }
   ],
   "source": [
    "# Truy xuất 3 phần tử đầu tiên của Series\n",
    "\n",
    "import pandas as pd\n",
    "import numpy as np\n",
    "\n",
    "a = np.array([10, 32, 53, 14, 25])\n",
    "\n",
    "s = pd.Series(a,index = ['a','b','c','d','e'])\n",
    "\n",
    "print (s[:3])"
   ]
  },
  {
   "cell_type": "code",
   "execution_count": 6,
   "id": "20306dac",
   "metadata": {},
   "outputs": [
    {
     "name": "stdout",
     "output_type": "stream",
     "text": [
      "d    14\n",
      "e    25\n",
      "dtype: int32\n"
     ]
    }
   ],
   "source": [
    "# Truy xuất 2 phần tử cuối của Series\n",
    "\n",
    "import pandas as pd\n",
    "import numpy as np\n",
    "\n",
    "a = np.array([10, 32, 53, 14, 25])\n",
    "\n",
    "s = pd.Series(a,index = ['a','b','c','d','e'])\n",
    "\n",
    "print (s[-2:])"
   ]
  },
  {
   "cell_type": "code",
   "execution_count": null,
   "id": "d6bf71ae",
   "metadata": {},
   "outputs": [],
   "source": []
  },
  {
   "cell_type": "markdown",
   "id": "392024f2",
   "metadata": {},
   "source": [
    "# Asseccing by label"
   ]
  },
  {
   "cell_type": "code",
   "execution_count": 2,
   "id": "eecff5f6",
   "metadata": {},
   "outputs": [
    {
     "name": "stdout",
     "output_type": "stream",
     "text": [
      "2\n"
     ]
    }
   ],
   "source": [
    "# Truy xuất phần tử với label 'b'\n",
    "\n",
    "import pandas as pd\n",
    "import numpy as np\n",
    "\n",
    "a = np.array([10, 32, 53, 14, 25])\n",
    "\n",
    "s = pd.Series(a,index = ['a','b','c','d','e'])\n",
    "\n",
    "print (s['b'])"
   ]
  },
  {
   "cell_type": "code",
   "execution_count": null,
   "id": "9969ed04",
   "metadata": {},
   "outputs": [],
   "source": [
    "\n",
    "import pandas as pd\n",
    "import numpy as np\n",
    "\n",
    "a = np.array([10, 32, 53, 14, 25])\n",
    "\n",
    "s = pd.Series(a,index = ['a','b','c','d','e'])\n",
    "\n",
    "print (s['b']) # Truy xuất 1 phần tử thông qua label\n",
    "\n",
    "print s[['a','c','d']] # Truy xuất nhiều phần tử thông qua label"
   ]
  },
  {
   "cell_type": "code",
   "execution_count": null,
   "id": "0289e3c9",
   "metadata": {},
   "outputs": [],
   "source": []
  }
 ],
 "metadata": {
  "kernelspec": {
   "display_name": "Python 3",
   "language": "python",
   "name": "python3"
  },
  "language_info": {
   "codemirror_mode": {
    "name": "ipython",
    "version": 3
   },
   "file_extension": ".py",
   "mimetype": "text/x-python",
   "name": "python",
   "nbconvert_exporter": "python",
   "pygments_lexer": "ipython3",
   "version": "3.8.5"
  }
 },
 "nbformat": 4,
 "nbformat_minor": 5
}
