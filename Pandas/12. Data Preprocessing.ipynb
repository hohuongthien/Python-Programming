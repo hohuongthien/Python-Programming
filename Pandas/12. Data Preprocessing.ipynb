{
 "cells": [
  {
   "cell_type": "markdown",
   "id": "2ace8012",
   "metadata": {},
   "source": [
    "# Một số function thường được sử dụng trong Data Preprocessing"
   ]
  },
  {
   "cell_type": "raw",
   "id": "670ba41d",
   "metadata": {},
   "source": [
    "# Viewing/Inspecting Data\n",
    "\n",
    "df.head(n)                    # First n rows of the DataFrame\n",
    "df.tail(n)                    # Last n rows of the DataFrame\n",
    "df.shape                      # Number of rows and columns\n",
    "df.info()                     # Index, Datatype and Memory information\n",
    "df.describe()                 # Summary statistics for numerical columns\n",
    "s.value_counts(dropna=False)  # View unique values and counts\n"
   ]
  },
  {
   "cell_type": "raw",
   "id": "306152bb",
   "metadata": {},
   "source": [
    "# Filter với một điều kiện nào đó\n",
    "\n",
    "df[df[col] > 0.5] |                      # Rows where the column col is greater than 0.5\n",
    "df[(df[col] > 0.5) & (df[col] < 0.7)]    # Rows where 0.7 > col > 0.5\n",
    "df.sort_values(col1)                     # Sort values by col1 in ascending order\n",
    "df.sort_values(col2,ascending=False)     # Sort values by col2 in descending order\n",
    "df.sort_values([col1,col2],ascending=[True,False]) # Sort values by col1 in ascending order then col2 in descending order\n",
    "df.groupby(col)                          # Returns a groupby object for values from one column\n",
    "df.groupby([col1,col2])                  # Returns groupby object for values from multiple columns\n",
    "df.groupby(col1)[col2]                   # Returns the mean of the values in col2, grouped by the values in col1 (mean can be replaced with almost any function from the statistics module)\n"
   ]
  },
  {
   "cell_type": "raw",
   "id": "b9d4c7e1",
   "metadata": {},
   "source": [
    "Ví dụ: Filter danh sách SV Nam chưa có điểm\n",
    "\n",
    "data[(data['Mark'].isnull()) & (data['Gender']=='M')]"
   ]
  },
  {
   "cell_type": "raw",
   "id": "2caed5dd",
   "metadata": {},
   "source": [
    "# Data Cleaning\n",
    "\n",
    "df.columns = ['a','b','c'] # Rename columns\n",
    "pd.isnull()                # Checks for null Values, Returns Boolean Arrray\n",
    "pd.notnull()               # Opposite of pd.isnull()\n",
    "df.dropna()                # Drop all rows that contain null values\n",
    "df.dropna(axis=1)          # Drop all columns that contain null values\n",
    "df.dropna(axis=1,thresh=n) # Drop all rows have have less than n non null values\n",
    "df.fillna(x)               # Replace all null values with x\n",
    "s.fillna(s.mean())         # Replace all null values with the mean\n",
    "s.astype(float)            # Convert the datatype of the series to float\n",
    "s.replace(1,'one')         # Replace all values equal to 1 with 'one'\n",
    "s.replace([1,3],['one','three']) # Replace all 1 with 'one' and 3 with 'three'"
   ]
  },
  {
   "cell_type": "code",
   "execution_count": null,
   "id": "2ca842f1",
   "metadata": {},
   "outputs": [],
   "source": []
  },
  {
   "cell_type": "raw",
   "id": "0804d008",
   "metadata": {},
   "source": [
    "# Selection\n",
    "\n",
    "\n",
    "df[col]                 # Returns column with label col as Series\n",
    "df[[col1, col2]]        # Returns columns as a new DataFrame\n",
    "df.iloc[0,:]            # First row\n",
    "df.iloc[0,0]            # First element of first column\n",
    "series.iloc[0]          # Selection by position\n",
    "series.loc['index_one'] # Selection by index"
   ]
  },
  {
   "cell_type": "code",
   "execution_count": null,
   "id": "9c04a983",
   "metadata": {},
   "outputs": [],
   "source": []
  },
  {
   "cell_type": "raw",
   "id": "76a7cf3a",
   "metadata": {},
   "source": [
    "# Statistics\n",
    "\n",
    "df.describe() # Summary statistics for numerical columns\n",
    "df.mean()     # Returns the mean of all columns\n",
    "df.corr()     # Returns the correlation between columns in a DataFrame\n",
    "df.count()    # Returns the number of non-null values in each DataFrame column\n",
    "df.max()      # Returns the highest value in each column\n",
    "df.min()      # Returns the lowest value in each column\n",
    "df.median()   # Returns the median of each column\n",
    "df.std()      # Returns the standard deviation of each column"
   ]
  },
  {
   "cell_type": "code",
   "execution_count": null,
   "id": "0301f385",
   "metadata": {},
   "outputs": [],
   "source": []
  },
  {
   "cell_type": "code",
   "execution_count": null,
   "id": "a5af00c4",
   "metadata": {},
   "outputs": [],
   "source": []
  },
  {
   "cell_type": "code",
   "execution_count": null,
   "id": "2044da90",
   "metadata": {},
   "outputs": [],
   "source": [
    "# Remove duplicate values with the same fullname and gender\n",
    "file = file.drop_duplicates()"
   ]
  },
  {
   "cell_type": "code",
   "execution_count": null,
   "id": "4d1ab61b",
   "metadata": {},
   "outputs": [],
   "source": [
    "# Chọn những cột không sử dụng trong file, sau đó loại bỏ những cột này và lưu vào file mới.\n",
    "columns = ['tweet_id','airline_sentiment_confidence','negativereason','negativereason_confidence','airline','airline_sentiment_gold','name','negativereason_gold','retweet_count','tweet_coord',\n",
    "          'tweet_created','tweet_location','user_timezone']\n",
    "\n",
    "# Loại bỏ những cột không sử dụng\n",
    "columns = train.drop(columns, inplace=True, axis=1)"
   ]
  },
  {
   "cell_type": "code",
   "execution_count": null,
   "id": "e5b4b579",
   "metadata": {},
   "outputs": [],
   "source": [
    "# Thêm cột vào file\n",
    "train['rate'] = -1"
   ]
  },
  {
   "cell_type": "code",
   "execution_count": null,
   "id": "1a92b1d5",
   "metadata": {},
   "outputs": [],
   "source": [
    "# Concat 2 file .csv\n",
    "file = pd.concat([file1,file2],axis=0)"
   ]
  },
  {
   "cell_type": "code",
   "execution_count": null,
   "id": "89a2d5d8",
   "metadata": {},
   "outputs": [],
   "source": [
    "dropna()\n",
    "df.append()\n",
    "df.drop_duplicates()"
   ]
  }
 ],
 "metadata": {
  "kernelspec": {
   "display_name": "Python 3",
   "language": "python",
   "name": "python3"
  },
  "language_info": {
   "codemirror_mode": {
    "name": "ipython",
    "version": 3
   },
   "file_extension": ".py",
   "mimetype": "text/x-python",
   "name": "python",
   "nbconvert_exporter": "python",
   "pygments_lexer": "ipython3",
   "version": "3.8.5"
  }
 },
 "nbformat": 4,
 "nbformat_minor": 5
}
