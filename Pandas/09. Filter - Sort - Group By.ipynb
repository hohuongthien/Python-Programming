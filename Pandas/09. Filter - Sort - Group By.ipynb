{
 "cells": [
  {
   "cell_type": "markdown",
   "id": "cd6a4f47",
   "metadata": {},
   "source": [
    "# Filtering\n",
    "Để học và thực hành phần này, chúng ta sử dụng file student.csv\n"
   ]
  },
  {
   "cell_type": "code",
   "execution_count": 78,
   "id": "47e4cd48",
   "metadata": {},
   "outputs": [
    {
     "data": {
      "text/html": [
       "<div>\n",
       "<style scoped>\n",
       "    .dataframe tbody tr th:only-of-type {\n",
       "        vertical-align: middle;\n",
       "    }\n",
       "\n",
       "    .dataframe tbody tr th {\n",
       "        vertical-align: top;\n",
       "    }\n",
       "\n",
       "    .dataframe thead th {\n",
       "        text-align: right;\n",
       "    }\n",
       "</style>\n",
       "<table border=\"1\" class=\"dataframe\">\n",
       "  <thead>\n",
       "    <tr style=\"text-align: right;\">\n",
       "      <th></th>\n",
       "      <th>ID</th>\n",
       "      <th>Name</th>\n",
       "      <th>BOD</th>\n",
       "      <th>Gender</th>\n",
       "      <th>Mark</th>\n",
       "      <th>Class</th>\n",
       "    </tr>\n",
       "  </thead>\n",
       "  <tbody>\n",
       "    <tr>\n",
       "      <th>0</th>\n",
       "      <td>16050007.0</td>\n",
       "      <td>Đặng Phương Anh</td>\n",
       "      <td>24/02/1998</td>\n",
       "      <td>F</td>\n",
       "      <td>7.0</td>\n",
       "      <td>QH-2016-E KTPT</td>\n",
       "    </tr>\n",
       "    <tr>\n",
       "      <th>1</th>\n",
       "      <td>16051722.0</td>\n",
       "      <td>Đinh Thị Vân Anh</td>\n",
       "      <td>21/11/1998</td>\n",
       "      <td>F</td>\n",
       "      <td>9.0</td>\n",
       "      <td>QH-2017-E KINH TẾ</td>\n",
       "    </tr>\n",
       "    <tr>\n",
       "      <th>2</th>\n",
       "      <td>16050014.0</td>\n",
       "      <td>Đỗ Lan Anh</td>\n",
       "      <td>NaN</td>\n",
       "      <td>F</td>\n",
       "      <td>4.0</td>\n",
       "      <td>QH-2017-E KTPT</td>\n",
       "    </tr>\n",
       "    <tr>\n",
       "      <th>3</th>\n",
       "      <td>16051723.0</td>\n",
       "      <td>Kiều Ngọc Ánh</td>\n",
       "      <td>06/10/1998</td>\n",
       "      <td>F</td>\n",
       "      <td>6.0</td>\n",
       "      <td>QH-2017-E KTPT</td>\n",
       "    </tr>\n",
       "    <tr>\n",
       "      <th>4</th>\n",
       "      <td>16050008.0</td>\n",
       "      <td>Lê Ngọc Ánh</td>\n",
       "      <td>17/02/1998</td>\n",
       "      <td>F</td>\n",
       "      <td>3.0</td>\n",
       "      <td>QH-2017-E KTPT</td>\n",
       "    </tr>\n",
       "    <tr>\n",
       "      <th>5</th>\n",
       "      <td>16052308.0</td>\n",
       "      <td>Vũ Thị Ánh</td>\n",
       "      <td>12/07/1998</td>\n",
       "      <td>F</td>\n",
       "      <td>9.0</td>\n",
       "      <td>QH-2017-E KINH TẾ</td>\n",
       "    </tr>\n",
       "    <tr>\n",
       "      <th>6</th>\n",
       "      <td>16051728.0</td>\n",
       "      <td>Nguyễn Đức Bình</td>\n",
       "      <td>NaN</td>\n",
       "      <td>F</td>\n",
       "      <td>6.0</td>\n",
       "      <td>QH-2016-E KTPT</td>\n",
       "    </tr>\n",
       "    <tr>\n",
       "      <th>7</th>\n",
       "      <td>16051726.0</td>\n",
       "      <td>Nguyễn Ngọc Diệp</td>\n",
       "      <td>10/10/1998</td>\n",
       "      <td>F</td>\n",
       "      <td>8.0</td>\n",
       "      <td>QH-2017-E KINH TẾ</td>\n",
       "    </tr>\n",
       "    <tr>\n",
       "      <th>8</th>\n",
       "      <td>16051725.0</td>\n",
       "      <td>Nguyễn Thị Ngọc Diệp</td>\n",
       "      <td>08/10/1998</td>\n",
       "      <td>F</td>\n",
       "      <td>7.0</td>\n",
       "      <td>QH-2017-E KTPT</td>\n",
       "    </tr>\n",
       "    <tr>\n",
       "      <th>9</th>\n",
       "      <td>16050018.0</td>\n",
       "      <td>Nguyễn Kim Dung</td>\n",
       "      <td>20/10/1998</td>\n",
       "      <td>F</td>\n",
       "      <td>7.0</td>\n",
       "      <td>QH-2016-E KTPT</td>\n",
       "    </tr>\n",
       "  </tbody>\n",
       "</table>\n",
       "</div>"
      ],
      "text/plain": [
       "           ID                  Name         BOD Gender  Mark  \\\n",
       "0  16050007.0       Đặng Phương Anh  24/02/1998      F   7.0   \n",
       "1  16051722.0      Đinh Thị Vân Anh  21/11/1998      F   9.0   \n",
       "2  16050014.0            Đỗ Lan Anh         NaN      F   4.0   \n",
       "3  16051723.0         Kiều Ngọc Ánh  06/10/1998      F   6.0   \n",
       "4  16050008.0           Lê Ngọc Ánh  17/02/1998      F   3.0   \n",
       "5  16052308.0            Vũ Thị Ánh  12/07/1998      F   9.0   \n",
       "6  16051728.0       Nguyễn Đức Bình         NaN      F   6.0   \n",
       "7  16051726.0      Nguyễn Ngọc Diệp  10/10/1998      F   8.0   \n",
       "8  16051725.0  Nguyễn Thị Ngọc Diệp  08/10/1998      F   7.0   \n",
       "9  16050018.0       Nguyễn Kim Dung  20/10/1998      F   7.0   \n",
       "\n",
       "               Class  \n",
       "0     QH-2016-E KTPT  \n",
       "1  QH-2017-E KINH TẾ  \n",
       "2     QH-2017-E KTPT  \n",
       "3     QH-2017-E KTPT  \n",
       "4     QH-2017-E KTPT  \n",
       "5  QH-2017-E KINH TẾ  \n",
       "6     QH-2016-E KTPT  \n",
       "7  QH-2017-E KINH TẾ  \n",
       "8     QH-2017-E KTPT  \n",
       "9     QH-2016-E KTPT  "
      ]
     },
     "execution_count": 78,
     "metadata": {},
     "output_type": "execute_result"
    }
   ],
   "source": [
    "# Import dữ liệu từ file student.csv\n",
    "\n",
    "import pandas as pd\n",
    "\n",
    "data = pd.read_csv('student.csv', encoding=\"utf-8\", sep=';')\n",
    "\n",
    "data.head(10)"
   ]
  },
  {
   "cell_type": "code",
   "execution_count": 87,
   "id": "768fdb54",
   "metadata": {},
   "outputs": [],
   "source": [
    "# Tình huống đặt ra là dataframe của chúng ta có quá nhiều dữ liệu\n",
    "# chúng ta chỉ cần chọn ra những columns cần thiết để thực hiện bài toán\n",
    "# Giải pháp: chúng ta tạo một dataframe mới từ dataframe gốc\n",
    "\n",
    "data[['Name','BOD','Gender','Mark']] # Tạo ra một dataframe mới với các columns là 'Name','BOD','Gender' và 'Mark'"
   ]
  },
  {
   "cell_type": "code",
   "execution_count": 69,
   "id": "82769ea3",
   "metadata": {},
   "outputs": [],
   "source": [
    "# Lọc theo điều kiện Gender là Female\n",
    "data[data['Gender'] == 'F']"
   ]
  },
  {
   "cell_type": "code",
   "execution_count": 68,
   "id": "9752e80e",
   "metadata": {},
   "outputs": [],
   "source": [
    "# Lọc theo điều kiện điểm số lớn hơn 5\n",
    "data[data['Mark'] > 5]"
   ]
  },
  {
   "cell_type": "code",
   "execution_count": 76,
   "id": "4a275e89",
   "metadata": {},
   "outputs": [
    {
     "data": {
      "text/html": [
       "<div>\n",
       "<style scoped>\n",
       "    .dataframe tbody tr th:only-of-type {\n",
       "        vertical-align: middle;\n",
       "    }\n",
       "\n",
       "    .dataframe tbody tr th {\n",
       "        vertical-align: top;\n",
       "    }\n",
       "\n",
       "    .dataframe thead th {\n",
       "        text-align: right;\n",
       "    }\n",
       "</style>\n",
       "<table border=\"1\" class=\"dataframe\">\n",
       "  <thead>\n",
       "    <tr style=\"text-align: right;\">\n",
       "      <th></th>\n",
       "      <th>ID</th>\n",
       "      <th>Name</th>\n",
       "      <th>BOD</th>\n",
       "      <th>Gender</th>\n",
       "      <th>Mark</th>\n",
       "      <th>Class</th>\n",
       "    </tr>\n",
       "  </thead>\n",
       "  <tbody>\n",
       "    <tr>\n",
       "      <th>13</th>\n",
       "      <td>16051730.0</td>\n",
       "      <td>Mai Thị Giang</td>\n",
       "      <td>08/09/1998</td>\n",
       "      <td>M</td>\n",
       "      <td>9.0</td>\n",
       "      <td>QH-2017-E KTPT</td>\n",
       "    </tr>\n",
       "    <tr>\n",
       "      <th>16</th>\n",
       "      <td>16050028.0</td>\n",
       "      <td>Nguyễn Thị Thúy Hiền</td>\n",
       "      <td>12/03/1998</td>\n",
       "      <td>M</td>\n",
       "      <td>8.0</td>\n",
       "      <td>QH-2017-E KINH TẾ</td>\n",
       "    </tr>\n",
       "    <tr>\n",
       "      <th>21</th>\n",
       "      <td>NaN</td>\n",
       "      <td>Phùng Thị Bích Hoàn</td>\n",
       "      <td>04/11/1998</td>\n",
       "      <td>M</td>\n",
       "      <td>9.0</td>\n",
       "      <td>QH-2017-E KTPT</td>\n",
       "    </tr>\n",
       "    <tr>\n",
       "      <th>23</th>\n",
       "      <td>17050035.0</td>\n",
       "      <td>Nguyễn Thanh Huệ</td>\n",
       "      <td>12/04/1999</td>\n",
       "      <td>M</td>\n",
       "      <td>7.0</td>\n",
       "      <td>QH-2016-E KTPT</td>\n",
       "    </tr>\n",
       "    <tr>\n",
       "      <th>34</th>\n",
       "      <td>16050084.0</td>\n",
       "      <td>Phạm Lê Diệu Linh</td>\n",
       "      <td>21/08/1998</td>\n",
       "      <td>M</td>\n",
       "      <td>6.0</td>\n",
       "      <td>QH-2016-E KTPT</td>\n",
       "    </tr>\n",
       "    <tr>\n",
       "      <th>40</th>\n",
       "      <td>NaN</td>\n",
       "      <td>Nguyễn Thu Ngân</td>\n",
       "      <td>20/08/1998</td>\n",
       "      <td>M</td>\n",
       "      <td>8.0</td>\n",
       "      <td>QH-2017-E KTPT</td>\n",
       "    </tr>\n",
       "    <tr>\n",
       "      <th>61</th>\n",
       "      <td>16050140.0</td>\n",
       "      <td>Trần Thị Trang</td>\n",
       "      <td>29/12/1998</td>\n",
       "      <td>M</td>\n",
       "      <td>7.0</td>\n",
       "      <td>QH-2016-E KTPT</td>\n",
       "    </tr>\n",
       "  </tbody>\n",
       "</table>\n",
       "</div>"
      ],
      "text/plain": [
       "            ID                  Name         BOD Gender  Mark  \\\n",
       "13  16051730.0         Mai Thị Giang  08/09/1998      M   9.0   \n",
       "16  16050028.0  Nguyễn Thị Thúy Hiền  12/03/1998      M   8.0   \n",
       "21         NaN   Phùng Thị Bích Hoàn  04/11/1998      M   9.0   \n",
       "23  17050035.0      Nguyễn Thanh Huệ  12/04/1999      M   7.0   \n",
       "34  16050084.0     Phạm Lê Diệu Linh  21/08/1998      M   6.0   \n",
       "40         NaN       Nguyễn Thu Ngân  20/08/1998      M   8.0   \n",
       "61  16050140.0        Trần Thị Trang  29/12/1998      M   7.0   \n",
       "\n",
       "                Class  \n",
       "13     QH-2017-E KTPT  \n",
       "16  QH-2017-E KINH TẾ  \n",
       "21     QH-2017-E KTPT  \n",
       "23     QH-2016-E KTPT  \n",
       "34     QH-2016-E KTPT  \n",
       "40     QH-2017-E KTPT  \n",
       "61     QH-2016-E KTPT  "
      ]
     },
     "execution_count": 76,
     "metadata": {},
     "output_type": "execute_result"
    }
   ],
   "source": [
    "# Lọc theo nhiều điều kiện\n",
    "# Lọc theo điều kiện giới tính là M và điểm số lớn hơn 5\n",
    "\n",
    "data[(data['Mark'] > 5) & (data['Gender']=='M')]"
   ]
  },
  {
   "cell_type": "code",
   "execution_count": null,
   "id": "0b682eac",
   "metadata": {},
   "outputs": [],
   "source": [
    "# Hiển thị danh sách Sinh viên không có điểm số\n",
    "\n",
    "data[data['Mark'].isnull()]\n",
    "\n",
    "# Hiển thị danh sách SV Nam chưa có điểm số\n",
    "data[(data['Mark'].isnull()) & (data['Gender']=='M')]"
   ]
  },
  {
   "cell_type": "code",
   "execution_count": null,
   "id": "2bd7f837",
   "metadata": {},
   "outputs": [],
   "source": []
  },
  {
   "cell_type": "markdown",
   "id": "9354d03a",
   "metadata": {},
   "source": [
    "# Sorting"
   ]
  },
  {
   "cell_type": "raw",
   "id": "4e45b58b",
   "metadata": {},
   "source": [
    "Sử dụng phương thức sort_index() để sort dữ liệu. Mặc định sẽ sort trên cột được index và theo thứ tự tăng dần.\n",
    "\n",
    "sort_index(ascending=False) # Sort theo thứ tự giảm dần, nếu tham số này bỏ qua thì sort theo thứ tự tăng dần.\n",
    "sort_index(axis=1) # Tham số asix=1 sort theo cột, asix = 0 sort theo hàng (theo stt hoặc ký tự alphabet).\n",
    "\n",
    "sort_values(by=column_name) # Sort theo dữ liệu ở column_name\n",
    "sort_values(by=[columns1, columns2]) # Sort theo dữ liệu ở cột 1 và cột 2, cột 1 là cột chính."
   ]
  },
  {
   "cell_type": "code",
   "execution_count": 1,
   "id": "5c26350d",
   "metadata": {},
   "outputs": [
    {
     "data": {
      "text/html": [
       "<div>\n",
       "<style scoped>\n",
       "    .dataframe tbody tr th:only-of-type {\n",
       "        vertical-align: middle;\n",
       "    }\n",
       "\n",
       "    .dataframe tbody tr th {\n",
       "        vertical-align: top;\n",
       "    }\n",
       "\n",
       "    .dataframe thead th {\n",
       "        text-align: right;\n",
       "    }\n",
       "</style>\n",
       "<table border=\"1\" class=\"dataframe\">\n",
       "  <thead>\n",
       "    <tr style=\"text-align: right;\">\n",
       "      <th></th>\n",
       "      <th>ID</th>\n",
       "      <th>Name</th>\n",
       "      <th>BOD</th>\n",
       "      <th>Gender</th>\n",
       "      <th>Mark</th>\n",
       "      <th>Class</th>\n",
       "    </tr>\n",
       "  </thead>\n",
       "  <tbody>\n",
       "    <tr>\n",
       "      <th>0</th>\n",
       "      <td>16050007.0</td>\n",
       "      <td>Đặng Phương Anh</td>\n",
       "      <td>24/02/1998</td>\n",
       "      <td>F</td>\n",
       "      <td>7.0</td>\n",
       "      <td>QH-2016-E KTPT</td>\n",
       "    </tr>\n",
       "    <tr>\n",
       "      <th>1</th>\n",
       "      <td>16051722.0</td>\n",
       "      <td>Đinh Thị Vân Anh</td>\n",
       "      <td>21/11/1998</td>\n",
       "      <td>F</td>\n",
       "      <td>9.0</td>\n",
       "      <td>QH-2017-E KINH TẾ</td>\n",
       "    </tr>\n",
       "    <tr>\n",
       "      <th>2</th>\n",
       "      <td>16050014.0</td>\n",
       "      <td>Đỗ Lan Anh</td>\n",
       "      <td>NaN</td>\n",
       "      <td>F</td>\n",
       "      <td>4.0</td>\n",
       "      <td>QH-2017-E KTPT</td>\n",
       "    </tr>\n",
       "    <tr>\n",
       "      <th>3</th>\n",
       "      <td>16051723.0</td>\n",
       "      <td>Kiều Ngọc Ánh</td>\n",
       "      <td>06/10/1998</td>\n",
       "      <td>F</td>\n",
       "      <td>6.0</td>\n",
       "      <td>QH-2017-E KTPT</td>\n",
       "    </tr>\n",
       "    <tr>\n",
       "      <th>4</th>\n",
       "      <td>16050008.0</td>\n",
       "      <td>Lê Ngọc Ánh</td>\n",
       "      <td>17/02/1998</td>\n",
       "      <td>F</td>\n",
       "      <td>3.0</td>\n",
       "      <td>QH-2017-E KTPT</td>\n",
       "    </tr>\n",
       "  </tbody>\n",
       "</table>\n",
       "</div>"
      ],
      "text/plain": [
       "           ID              Name         BOD Gender  Mark              Class\n",
       "0  16050007.0   Đặng Phương Anh  24/02/1998      F   7.0     QH-2016-E KTPT\n",
       "1  16051722.0  Đinh Thị Vân Anh  21/11/1998      F   9.0  QH-2017-E KINH TẾ\n",
       "2  16050014.0        Đỗ Lan Anh         NaN      F   4.0     QH-2017-E KTPT\n",
       "3  16051723.0     Kiều Ngọc Ánh  06/10/1998      F   6.0     QH-2017-E KTPT\n",
       "4  16050008.0       Lê Ngọc Ánh  17/02/1998      F   3.0     QH-2017-E KTPT"
      ]
     },
     "execution_count": 1,
     "metadata": {},
     "output_type": "execute_result"
    }
   ],
   "source": [
    "# Import dữ liệu từ file student.csv\n",
    "\n",
    "import pandas as pd\n",
    "\n",
    "data = pd.read_csv('student.csv', encoding=\"utf-8\", sep=';')\n",
    "\n",
    "data.head(5)"
   ]
  },
  {
   "cell_type": "code",
   "execution_count": 64,
   "id": "9d3d52db",
   "metadata": {},
   "outputs": [
    {
     "name": "stdout",
     "output_type": "stream",
     "text": [
      "            ID                Name         BOD Gender  Mark           Class\n",
      "44  15050806.0    Nguyễn Thị Nhung  06/02/1996      F   NaN  QH-2016-E KTPT\n",
      "52  15050826.0     Hoàng Như Quỳnh  09/10/1997      F   6.0  QH-2016-E KTPT\n",
      "0   16050007.0     Đặng Phương Anh  24/02/1998      F   7.0  QH-2016-E KTPT\n",
      "4   16050008.0         Lê Ngọc Ánh  17/02/1998      F   3.0  QH-2017-E KTPT\n",
      "2   16050014.0          Đỗ Lan Anh         NaN      F   4.0  QH-2017-E KTPT\n",
      "..         ...                 ...         ...    ...   ...             ...\n",
      "40         NaN     Nguyễn Thu Ngân  20/08/1998      M   8.0  QH-2017-E KTPT\n",
      "62         NaN     Trịnh Mai Trang  25/06/1998      F   8.0  QH-2017-E KTPT\n",
      "74         NaN  Nguyễn Thị Hải Vân  18/09/1998      F   9.0  QH-2017-E KTPT\n",
      "77         NaN                 NaN         NaN    NaN   NaN             NaN\n",
      "78         NaN                 NaN         NaN    NaN   NaN             NaN\n",
      "\n",
      "[79 rows x 6 columns]\n"
     ]
    }
   ],
   "source": [
    "# Sort dữ liệu theo ID của sinh viên\n",
    "sorted_df=data.sort_values(by='ID')\n",
    "\n",
    "print(sorted_df)"
   ]
  },
  {
   "cell_type": "markdown",
   "id": "faf6d3e9",
   "metadata": {},
   "source": [
    "# Group By"
   ]
  },
  {
   "cell_type": "raw",
   "id": "dba972de",
   "metadata": {},
   "source": [
    "Một số phương thức trong hàm groupby()\n",
    "\n",
    "GroupBy.count()\t                Compute count of group, excluding missing values\n",
    "GroupBy.cumcount([ascending])\tNumber each item in each group from 0 to the length of that group - 1.\n",
    "GroupBy.first(**kwargs)        \tCompute first of group values\n",
    "GroupBy.head([n])\t        Returns first n rows of each group.\n",
    "GroupBy.last(**kwargs)\tCompute last of group values\n",
    "GroupBy.max(**kwargs)\tCompute max of group values\n",
    "GroupBy.mean(*args, **kwargs)\tCompute mean of groups, excluding missing values\n",
    "GroupBy.median(**kwargs)\tCompute median of groups, excluding missing values\n",
    "GroupBy.min(**kwargs)\tCompute min of group values\n",
    "GroupBy.ngroup([ascending])\tNumber each group from 0 to the number of groups - 1.\n",
    "GroupBy.nth(n[, dropna])\tTake the nth row from each group if n is an int, or a subset of rows if n is a list of ints.\n",
    "GroupBy.ohlc()\tCompute sum of values, excluding missing values\n",
    "GroupBy.prod(**kwargs)\tCompute prod of group values\n",
    "GroupBy.size()\tCompute group sizes\n",
    "GroupBy.sem([ddof])\tCompute standard error of the mean of groups, excluding missing values\n",
    "GroupBy.std([ddof])\tCompute standard deviation of groups, excluding missing values\n",
    "GroupBy.sum(**kwargs)\tCompute sum of group values\n",
    "GroupBy.var([ddof])\tCompute variance of groups, excluding missing values\n",
    "GroupBy.tail([n])\tReturns last n rows of each group"
   ]
  },
  {
   "cell_type": "code",
   "execution_count": 61,
   "id": "1b6f6253",
   "metadata": {},
   "outputs": [
    {
     "name": "stdout",
     "output_type": "stream",
     "text": [
      "      ID  Name  BOD  Gender  Class\n",
      "Mark                              \n",
      "3.0    6     6    6       6      6\n",
      "4.0    8     8    7       8      8\n",
      "5.0    7     9    8       9      9\n",
      "6.0   11    11   10      11     11\n",
      "7.0    9     9    9       9      9\n",
      "8.0    6     9    9       9      9\n",
      "9.0    7     9    9       9      9\n"
     ]
    }
   ],
   "source": [
    "# Đếm số lượng sinh viên đạt được ở từng điểm số (Group theo Mark)\n",
    "# Các ô có giá trị rỗng sẽ được bỏ qua\n",
    "\n",
    "grouped = data.groupby('Mark').count()\n",
    "print (grouped)"
   ]
  },
  {
   "cell_type": "code",
   "execution_count": 53,
   "id": "87bf2bd6",
   "metadata": {},
   "outputs": [
    {
     "name": "stdout",
     "output_type": "stream",
     "text": [
      "                             ID              Name Gender  Mark\n",
      "Class                                                         \n",
      "QH-2015-E KTPT       16051767.0   Nguyễn Văn Nhân      F   5.0\n",
      "QH-2015-E KTPT-LUẬT  16050115.0  Lê Thị Kiều Oanh      F   NaN\n",
      "QH-2016-E KINHTE     16052318.0        Đỗ Thị Hoa      F   9.0\n",
      "QH-2016-E KTPT       17050090.0   Đặng Phương Anh      M   9.0\n",
      "QH-2017-E KINH TẾ    16052308.0       Đỗ Thị Hồng      M   9.0\n",
      "QH-2017-E KTPT       17050098.0        Đỗ Lan Anh      M   9.0\n",
      "QH-2017-E KẾ TOÁN    16050158.0    Phạm Thị Hà Vy      F   5.0\n"
     ]
    },
    {
     "name": "stderr",
     "output_type": "stream",
     "text": [
      "C:\\Users\\HUONGT~1\\AppData\\Local\\Temp/ipykernel_9056/2394487248.py:9: FutureWarning: Dropping invalid columns in DataFrameGroupBy.max is deprecated. In a future version, a TypeError will be raised. Before calling .max, select only columns which should be valid for the function.\n",
      "  grouped = data.groupby('Class').max()\n"
     ]
    }
   ],
   "source": [
    "# Hiển thị danh sách sinh viên có điểm cao nhất trong từng lớp\n",
    " \n",
    "\n",
    "grouped = data.groupby('Class') # Groupby theo lớp\n",
    "\n",
    "print (grouped['Mark','Name'].max()) # Hiển thị danh sách có điểm số cao nhất\n",
    "\n",
    "# Với 2 lệnh trên, chúng ta cũng có thể viết gọn lại như sau\n",
    "grouped = data.groupby('Class').max()\n",
    "print (grouped)"
   ]
  },
  {
   "cell_type": "code",
   "execution_count": 59,
   "id": "8b6dc8b4",
   "metadata": {},
   "outputs": [
    {
     "name": "stdout",
     "output_type": "stream",
     "text": [
      "{'QH-2015-E KTPT': [42], 'QH-2015-E KTPT-LUẬT': [47], 'QH-2016-E KINHTE': [19, 28, 54, 65], 'QH-2016-E KTPT': [0, 6, 9, 11, 17, 18, 23, 24, 25, 26, 27, 29, 33, 34, 43, 44, 49, 50, 51, 52, 55, 57, 58, 59, 61, 63, 67, 69, 70, 71, 73, 75, 76], 'QH-2017-E KINH TẾ': [1, 5, 7, 12, 15, 16, 22, 46], 'QH-2017-E KTPT': [2, 3, 4, 8, 10, 13, 14, 20, 21, 30, 31, 32, 35, 36, 37, 38, 39, 40, 41, 45, 48, 53, 56, 60, 62, 66, 68, 72, 74], 'QH-2017-E KẾ TOÁN': [64]}\n"
     ]
    }
   ],
   "source": [
    "grouped = data.groupby('Class').groups\n",
    "print (grouped)"
   ]
  },
  {
   "cell_type": "code",
   "execution_count": 62,
   "id": "4e68c5ac",
   "metadata": {},
   "outputs": [
    {
     "name": "stdout",
     "output_type": "stream",
     "text": [
      "               ID\n",
      "Mark             \n",
      "3.0    98306029.0\n",
      "4.0   129406904.0\n",
      "5.0   112355722.0\n",
      "6.0   177558272.0\n",
      "7.0   146456169.0\n",
      "8.0    97305425.0\n",
      "9.0   113361136.0\n"
     ]
    }
   ],
   "source": [
    "# Tính tổng của một column nào đó được groupby theo nhóm\n",
    "# Ví dụng dùng cái này để tính tổng doanh thu theo từng tháng, từng năm\n",
    "\n",
    "grouped1 = data.groupby('Mark').sum()\n",
    "print (grouped1)"
   ]
  },
  {
   "cell_type": "code",
   "execution_count": null,
   "id": "a1421e5c",
   "metadata": {},
   "outputs": [],
   "source": []
  }
 ],
 "metadata": {
  "kernelspec": {
   "display_name": "Python 3",
   "language": "python",
   "name": "python3"
  },
  "language_info": {
   "codemirror_mode": {
    "name": "ipython",
    "version": 3
   },
   "file_extension": ".py",
   "mimetype": "text/x-python",
   "name": "python",
   "nbconvert_exporter": "python",
   "pygments_lexer": "ipython3",
   "version": "3.8.5"
  }
 },
 "nbformat": 4,
 "nbformat_minor": 5
}
