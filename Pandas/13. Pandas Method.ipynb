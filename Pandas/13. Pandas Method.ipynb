{
 "cells": [
  {
   "cell_type": "markdown",
   "id": "0f98d756",
   "metadata": {},
   "source": [
    "# Adding new column to existing DataFrame"
   ]
  },
  {
   "cell_type": "code",
   "execution_count": 1,
   "id": "debc9c30",
   "metadata": {},
   "outputs": [
    {
     "data": {
      "text/html": [
       "<div>\n",
       "<style scoped>\n",
       "    .dataframe tbody tr th:only-of-type {\n",
       "        vertical-align: middle;\n",
       "    }\n",
       "\n",
       "    .dataframe tbody tr th {\n",
       "        vertical-align: top;\n",
       "    }\n",
       "\n",
       "    .dataframe thead th {\n",
       "        text-align: right;\n",
       "    }\n",
       "</style>\n",
       "<table border=\"1\" class=\"dataframe\">\n",
       "  <thead>\n",
       "    <tr style=\"text-align: right;\">\n",
       "      <th></th>\n",
       "      <th>Name</th>\n",
       "      <th>Height</th>\n",
       "      <th>Qualification</th>\n",
       "      <th>Address</th>\n",
       "    </tr>\n",
       "  </thead>\n",
       "  <tbody>\n",
       "    <tr>\n",
       "      <th>0</th>\n",
       "      <td>Tâm</td>\n",
       "      <td>5.1</td>\n",
       "      <td>Msc</td>\n",
       "      <td>HCM</td>\n",
       "    </tr>\n",
       "    <tr>\n",
       "      <th>1</th>\n",
       "      <td>Thịnh</td>\n",
       "      <td>6.2</td>\n",
       "      <td>MA</td>\n",
       "      <td>ĐN</td>\n",
       "    </tr>\n",
       "    <tr>\n",
       "      <th>2</th>\n",
       "      <td>An</td>\n",
       "      <td>5.1</td>\n",
       "      <td>Msc</td>\n",
       "      <td>Hà Nội</td>\n",
       "    </tr>\n",
       "    <tr>\n",
       "      <th>3</th>\n",
       "      <td>Vân</td>\n",
       "      <td>5.2</td>\n",
       "      <td>Msc</td>\n",
       "      <td>Đồng Nai</td>\n",
       "    </tr>\n",
       "  </tbody>\n",
       "</table>\n",
       "</div>"
      ],
      "text/plain": [
       "    Name  Height Qualification   Address\n",
       "0    Tâm     5.1           Msc       HCM\n",
       "1  Thịnh     6.2            MA        ĐN\n",
       "2     An     5.1           Msc    Hà Nội\n",
       "3    Vân     5.2           Msc  Đồng Nai"
      ]
     },
     "execution_count": 1,
     "metadata": {},
     "output_type": "execute_result"
    }
   ],
   "source": [
    "import pandas as pd\n",
    " \n",
    "# Khởi tạo một Dictionary với dữ liệu như sau\n",
    "data = {'Name': ['Tâm', 'Thịnh', 'An', 'Vân'],\n",
    "        'Height': [5.1, 6.2, 5.1, 5.2],\n",
    "        'Qualification': ['Msc', 'MA', 'Msc', 'Msc']}\n",
    " \n",
    "# Tạo một dataframe từ dictionary vừa tạo ở trên\n",
    "df = pd.DataFrame(data)\n",
    " \n",
    "# Khởi tạo một list mới để import vào dataframe thành 1 column mới\n",
    "address = ['HCM', 'ĐN', 'Hà Nội', 'Đồng Nai']\n",
    " \n",
    "# Inser list vào dataframe\n",
    "df['Address'] = address\n",
    " "
   ]
  },
  {
   "cell_type": "code",
   "execution_count": null,
   "id": "c9a28002",
   "metadata": {},
   "outputs": [],
   "source": [
    "# Tạo một dataframe\n",
    "\n",
    "import pandas as pd\n",
    "\n",
    "d = {'one' : pd.Series([1, 2, 3], index=['a', 'b', 'c']),\n",
    "   'two' : pd.Series([5, 6, 7, 8], index=['a', 'b', 'c', 'd']),\n",
    "    'three' : pd.Series([9, 10, 11, 12], index=['a', 'b', 'c', 'd']),\n",
    "    'four' : pd.Series([13, 14, 15, 16], index=['a', 'b', 'c', 'd'])}\n",
    "\n",
    "df = pd.DataFrame(d)\n",
    "print (df)"
   ]
  },
  {
   "cell_type": "code",
   "execution_count": null,
   "id": "99cec903",
   "metadata": {},
   "outputs": [],
   "source": [
    "# Giả sử ta đang có 1 DataFrame 4 columns như trên\n",
    "# Thêm 1 columns với một phép tính nào đó. Ví dụ cột 5 = cột 4 * 2\n",
    "\n",
    "df['five'] = df['four'] * 2"
   ]
  },
  {
   "cell_type": "markdown",
   "id": "9985802b",
   "metadata": {},
   "source": [
    "# insert columns to dataframe\n",
    "Sử dụng fucntion dataframe.insert() để chèn 1 column vào 1 vị trí bất kỳ mà ta chỉ định.\n"
   ]
  },
  {
   "cell_type": "code",
   "execution_count": 5,
   "id": "1eff5016",
   "metadata": {},
   "outputs": [
    {
     "data": {
      "text/html": [
       "<div>\n",
       "<style scoped>\n",
       "    .dataframe tbody tr th:only-of-type {\n",
       "        vertical-align: middle;\n",
       "    }\n",
       "\n",
       "    .dataframe tbody tr th {\n",
       "        vertical-align: top;\n",
       "    }\n",
       "\n",
       "    .dataframe thead th {\n",
       "        text-align: right;\n",
       "    }\n",
       "</style>\n",
       "<table border=\"1\" class=\"dataframe\">\n",
       "  <thead>\n",
       "    <tr style=\"text-align: right;\">\n",
       "      <th></th>\n",
       "      <th>Name</th>\n",
       "      <th>Height</th>\n",
       "      <th>Age</th>\n",
       "      <th>Qualification</th>\n",
       "    </tr>\n",
       "  </thead>\n",
       "  <tbody>\n",
       "    <tr>\n",
       "      <th>0</th>\n",
       "      <td>Tâm</td>\n",
       "      <td>5.1</td>\n",
       "      <td>21</td>\n",
       "      <td>Msc</td>\n",
       "    </tr>\n",
       "    <tr>\n",
       "      <th>1</th>\n",
       "      <td>Thịnh</td>\n",
       "      <td>6.2</td>\n",
       "      <td>23</td>\n",
       "      <td>MA</td>\n",
       "    </tr>\n",
       "    <tr>\n",
       "      <th>2</th>\n",
       "      <td>An</td>\n",
       "      <td>5.1</td>\n",
       "      <td>24</td>\n",
       "      <td>Msc</td>\n",
       "    </tr>\n",
       "    <tr>\n",
       "      <th>3</th>\n",
       "      <td>Vân</td>\n",
       "      <td>5.2</td>\n",
       "      <td>21</td>\n",
       "      <td>Msc</td>\n",
       "    </tr>\n",
       "  </tbody>\n",
       "</table>\n",
       "</div>"
      ],
      "text/plain": [
       "    Name  Height  Age Qualification\n",
       "0    Tâm     5.1   21           Msc\n",
       "1  Thịnh     6.2   23            MA\n",
       "2     An     5.1   24           Msc\n",
       "3    Vân     5.2   21           Msc"
      ]
     },
     "execution_count": 5,
     "metadata": {},
     "output_type": "execute_result"
    }
   ],
   "source": [
    "import pandas as pd\n",
    " \n",
    "# Khởi tạo một Dictionary với dữ liệu như sau\n",
    "data = {'Name': ['Tâm', 'Thịnh', 'An', 'Vân'],\n",
    "        'Height': [5.1, 6.2, 5.1, 5.2],\n",
    "        'Qualification': ['Msc', 'MA', 'Msc', 'Msc']}\n",
    " \n",
    "# Tạo một dataframe từ dictionary vừa tạo ở trên\n",
    "df = pd.DataFrame(data)\n",
    " \n",
    "# Sử dụng DataFrame.insert() để thêm vào 1 cột mới tại 1 thứ tự nào đó\n",
    "df.insert(2, \"Age\", [21, 23, 24, 21], True) # Thêm 1 cột 'Age' vào vị trí thứ hai của dataframe\n",
    " \n",
    "# Observe the result\n",
    "df"
   ]
  },
  {
   "cell_type": "markdown",
   "id": "aea84ee2",
   "metadata": {},
   "source": [
    "# Rename column in dataframe"
   ]
  },
  {
   "cell_type": "code",
   "execution_count": 22,
   "id": "c73776e5",
   "metadata": {},
   "outputs": [
    {
     "name": "stdout",
     "output_type": "stream",
     "text": [
      "     Tên  Chiều Cao Học Vấn\n",
      "0    Tâm        5.1     Msc\n",
      "1  Thịnh        6.2      MA\n",
      "2     An        5.1     Msc\n",
      "3    Vân        5.2     Msc\n"
     ]
    }
   ],
   "source": [
    "import pandas as pd\n",
    " \n",
    "# Khởi tạo một Dictionary với dữ liệu như sau\n",
    "data = {'Name': ['Tâm', 'Thịnh', 'An', 'Vân'],\n",
    "        'Height': [5.1, 6.2, 5.1, 5.2],\n",
    "        'Qualification': ['Msc', 'MA', 'Msc', 'Msc']}\n",
    " \n",
    "# Tạo một dataframe từ dictionary vừa tạo ở trên\n",
    "df = pd.DataFrame(data)\n",
    "   \n",
    "\n",
    "# Tạo một dictionary với cặp key:value\n",
    "# Trong đó key là tên của columns cũ, value là tên columns mới cần đổi.\n",
    "new_col = {'Name':'Tên','Height':'Chiều Cao','Qualification':'Học Vấn'}\n",
    "\n",
    "df.rename(columns = new_col, inplace = True)\n",
    "\n",
    "print (df)   "
   ]
  },
  {
   "cell_type": "code",
   "execution_count": 23,
   "id": "ec897951",
   "metadata": {
    "scrolled": true
   },
   "outputs": [
    {
     "name": "stdout",
     "output_type": "stream",
     "text": [
      "      Tên  Chiều Cao Học Vấn\n",
      "R0    Tâm        5.1     Msc\n",
      "R1  Thịnh        6.2      MA\n",
      "R2     An        5.1     Msc\n",
      "R3    Vân        5.2     Msc\n"
     ]
    }
   ],
   "source": [
    "# Để thay đổi tên của dòng trong dataframe\n",
    "# Chúng ta sử dụng tham số index trong method df.rename()\n",
    "\n",
    "new_row = {0:'R0',1:'R1',2:'R2',3:'R3'}\n",
    "\n",
    "df.rename(index = new_row, inplace = True)\n",
    "\n",
    "print(df)"
   ]
  },
  {
   "cell_type": "code",
   "execution_count": null,
   "id": "4a27f6b7",
   "metadata": {},
   "outputs": [],
   "source": []
  }
 ],
 "metadata": {
  "kernelspec": {
   "display_name": "Python 3",
   "language": "python",
   "name": "python3"
  },
  "language_info": {
   "codemirror_mode": {
    "name": "ipython",
    "version": 3
   },
   "file_extension": ".py",
   "mimetype": "text/x-python",
   "name": "python",
   "nbconvert_exporter": "python",
   "pygments_lexer": "ipython3",
   "version": "3.8.5"
  }
 },
 "nbformat": 4,
 "nbformat_minor": 5
}
