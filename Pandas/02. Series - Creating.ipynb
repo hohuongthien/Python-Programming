{
 "cells": [
  {
   "cell_type": "markdown",
   "id": "5c369287",
   "metadata": {},
   "source": [
    "Series là mảng 1 chiều được đánh nhãn. Series có khả năng lưu trữ các loại dữ liệu khác nhau như: int, string, float, đối tượng.\n",
    "\n",
    "Cấu trúc để tạo một Series như sau:\n",
    "\n",
    "pandas.Series( data, index, dtype, copy)\n",
    "\n",
    "Trong đó:\n",
    "\n",
    "- Data có thể được lấy từ list, ndarray, dictionary, scalar.\n",
    "- Index: được đánh số từ 0, giá trị index này có thể được truyền vào. Mặc định (nếu để trống) được đánh số 0\n",
    "- dtype: loại dữ liệu. Nếu để trống thì loại dữ liệu sẽ được suy ra từ dữ liệu khai báo.\n",
    "- copy: Mặc định là false"
   ]
  },
  {
   "cell_type": "markdown",
   "id": "20a4a5aa",
   "metadata": {},
   "source": [
    "# Create an empty Series"
   ]
  },
  {
   "cell_type": "code",
   "execution_count": 3,
   "id": "8be53422",
   "metadata": {},
   "outputs": [
    {
     "name": "stdout",
     "output_type": "stream",
     "text": [
      "Series([], dtype: float64)\n"
     ]
    },
    {
     "name": "stderr",
     "output_type": "stream",
     "text": [
      "C:\\Users\\HUONGT~1\\AppData\\Local\\Temp/ipykernel_10592/3276928564.py:3: DeprecationWarning: The default dtype for empty Series will be 'object' instead of 'float64' in a future version. Specify a dtype explicitly to silence this warning.\n",
      "  s = pd.Series()\n"
     ]
    }
   ],
   "source": [
    "#import the pandas library and aliasing as pd\n",
    "import pandas as pd\n",
    "s = pd.Series()\n",
    "print (s)"
   ]
  },
  {
   "cell_type": "markdown",
   "id": "631165ea",
   "metadata": {},
   "source": [
    "# Create a Series from Scalar\n",
    "Scalar là 1 giá trị trong mảng 0-array (mảng 0 chiều trong Numpy)"
   ]
  },
  {
   "cell_type": "code",
   "execution_count": null,
   "id": "e51f3a83",
   "metadata": {},
   "outputs": [],
   "source": [
    "import pandas as pd\n",
    "import numpy as np\n",
    "\n",
    "s = pd.Series(5, index=[0, 1, 2, 3]) # Tạo Series với giá trị = 5, tham số index là bắt buộc phải có\n",
    "\n",
    "print (s)"
   ]
  },
  {
   "cell_type": "markdown",
   "id": "20c21345",
   "metadata": {},
   "source": [
    "# Create a Series from ndarray"
   ]
  },
  {
   "cell_type": "code",
   "execution_count": 12,
   "id": "0dacc859",
   "metadata": {},
   "outputs": [
    {
     "name": "stdout",
     "output_type": "stream",
     "text": [
      "0    aaaa\n",
      "1    bbbb\n",
      "2    cccc\n",
      "3    dddd\n",
      "dtype: object\n"
     ]
    }
   ],
   "source": [
    "# Tạo một Series với index mặc định\n",
    "import pandas as pd\n",
    "import numpy as np\n",
    "# Tạo một mảng với kiểu dữ liệu là string\n",
    "data = np.array(['aaaa','bbbb','cccc','dddd']) \n",
    "#Tạo một series từ mảng data\n",
    "s = pd.Series(data) \n",
    "\n",
    "print (s)"
   ]
  },
  {
   "cell_type": "code",
   "execution_count": 9,
   "id": "ee3a7235",
   "metadata": {},
   "outputs": [
    {
     "name": "stdout",
     "output_type": "stream",
     "text": [
      "100    a\n",
      "101    b\n",
      "102    c\n",
      "103    d\n",
      "dtype: object\n"
     ]
    }
   ],
   "source": [
    "# Tạo một Series với index được thay đổi\n",
    "\n",
    "import pandas as pd\n",
    "import numpy as np\n",
    "# Tạo một mảng với kiểu dữ liệu là string\n",
    "data = np.array(['a','b','c','d'])\n",
    "# Tạo một Series từ mảng data, với index đc thay đổi\n",
    "s = pd.Series(data,index=[100,101,102,103]) \n",
    "\n",
    "print (s)"
   ]
  },
  {
   "cell_type": "code",
   "execution_count": 10,
   "id": "d23b86cd",
   "metadata": {},
   "outputs": [
    {
     "name": "stdout",
     "output_type": "stream",
     "text": [
      "x    a\n",
      "y    b\n",
      "z    c\n",
      "w    d\n",
      "dtype: object\n"
     ]
    }
   ],
   "source": [
    "# Tham số index còn được dùng để labeled cho series\n",
    "# Tạo một Series với name x, y, x, w thay vì sô 100, 101, 102, 103\n",
    "\n",
    "import pandas as pd\n",
    "\n",
    "data = np.array(['a','b','c','d']) # Tạo một mảng với kiểu dữ liệu là string\n",
    "\n",
    "s = pd.Series(data,index=['x','y','z','w']) # Tạo một Series từ mảng data, với index đc thay đổi\n",
    "\n",
    "print (s)"
   ]
  },
  {
   "cell_type": "markdown",
   "id": "68aec765",
   "metadata": {},
   "source": [
    "# Creating a Series from a List"
   ]
  },
  {
   "cell_type": "code",
   "execution_count": 14,
   "id": "2499bb8f",
   "metadata": {},
   "outputs": [
    {
     "name": "stdout",
     "output_type": "stream",
     "text": [
      "R1    1\n",
      "R2    7\n",
      "R3    2\n",
      "dtype: int64\n"
     ]
    }
   ],
   "source": [
    "import pandas as pd\n",
    "# Tạo một List các số\n",
    "list1 = [1, 7, 2] \n",
    "# Tạo một Series từ List các số vừa tạo\n",
    "s = pd.Series(list1, index=['R1','R2','R3']) \n",
    "\n",
    "print(s)"
   ]
  },
  {
   "cell_type": "markdown",
   "id": "4e42a824",
   "metadata": {},
   "source": [
    "# Create a Series from Dictionary"
   ]
  },
  {
   "cell_type": "code",
   "execution_count": 11,
   "id": "e952dff9",
   "metadata": {},
   "outputs": [
    {
     "name": "stdout",
     "output_type": "stream",
     "text": [
      "a    0\n",
      "b    1\n",
      "c    2\n",
      "dtype: int32\n"
     ]
    }
   ],
   "source": [
    "import pandas as pd\n",
    "import numpy as np\n",
    "\n",
    "dic = {'a' : 0., 'b' : 1., 'c' : 2.} # Tạo một Dict với cặp key:value, giá trị value là float\n",
    "\n",
    "s = pd.Series(dic, dtype = int) # Tạo Series từ dic, chuyển kiểu dữ liệu từ float sang integer\n",
    "\n",
    "print (s)"
   ]
  },
  {
   "cell_type": "code",
   "execution_count": 7,
   "id": "6ed60daa",
   "metadata": {},
   "outputs": [
    {
     "name": "stdout",
     "output_type": "stream",
     "text": [
      "day1    420\n",
      "day2    380\n",
      "dtype: int64\n"
     ]
    }
   ],
   "source": [
    "# Tạo Series từ một Dictionary nhưng giới hạn dữ liệu trong dictionary\n",
    "# Không sử dụng hết dữ liệu trong dictionary\n",
    "# bằng cách truyền các key của dictionary vào tham số index\n",
    "\n",
    "import pandas as pd\n",
    "\n",
    "calories = {\"day1\": 420, \"day2\": 380, \"day3\": 390}\n",
    "\n",
    "myvar = pd.Series(calories, index = [\"day1\", \"day2\"]) # Chỉ lấy day1 và day2 để tạo Series\n",
    "\n",
    "print(myvar)"
   ]
  },
  {
   "cell_type": "code",
   "execution_count": null,
   "id": "af5533b4",
   "metadata": {},
   "outputs": [],
   "source": []
  },
  {
   "cell_type": "code",
   "execution_count": null,
   "id": "242d514c",
   "metadata": {},
   "outputs": [],
   "source": [
    "# Khởi tạo một DataFrame với các số ngẫu nhiên\n",
    "import pandas as pd\n",
    "import numpy as np # import Numpy để sử dụng hàm random\n",
    "\n",
    "df = pd.DataFrame(np.random.randn(8, 4),index = ['a','b','c','d','e','f','g','h'], columns = ['A', 'B', 'C', 'D'])"
   ]
  }
 ],
 "metadata": {
  "kernelspec": {
   "display_name": "Python 3",
   "language": "python",
   "name": "python3"
  },
  "language_info": {
   "codemirror_mode": {
    "name": "ipython",
    "version": 3
   },
   "file_extension": ".py",
   "mimetype": "text/x-python",
   "name": "python",
   "nbconvert_exporter": "python",
   "pygments_lexer": "ipython3",
   "version": "3.8.5"
  }
 },
 "nbformat": 4,
 "nbformat_minor": 5
}
