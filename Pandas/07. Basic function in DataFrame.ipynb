{
 "cells": [
  {
   "cell_type": "markdown",
   "id": "68d29a69",
   "metadata": {},
   "source": [
    "# Basic Function"
   ]
  },
  {
   "cell_type": "raw",
   "id": "6e756ba7",
   "metadata": {},
   "source": [
    "Functions \tDescription\n",
    "Pandas DataFrame.append()          Add the rows of other dataframe to the end of the given dataframe.\n",
    "Pandas DataFrame.apply()           Allows the user to pass a function and apply it to every single value of the Pandas series.\n",
    "Pandas DataFrame.assign()          Add new column into a dataframe.\n",
    "Pandas DataFrame.astype()          Cast the Pandas object to a specified dtype.astype() function.\n",
    "Pandas DataFrame.concat()          Perform concatenation operation along an axis in the DataFrame.\n",
    "Pandas DataFrame.count()           Count the number of non-NA cells for each column or row.\n",
    "Pandas DataFrame.describe()   Calculate some statistical data like percentile, mean and std of the numerical values of the Series or DataFrame.\n",
    "\n",
    "Pandas DataFrame.drop_duplicates()  Remove duplicate values from the DataFrame.\n",
    "Pandas DataFrame.groupby()\t        Split the data into various groups.\n",
    "Pandas DataFrame.head()             Returns the first n rows for the object based on position.\n",
    "Pandas DataFrame.hist()          \tDivide the values within a numerical variable into \"bins\".\n",
    "Pandas DataFrame.iterrows()     \tIterate over the rows as (index, series) pairs.\n",
    "Pandas DataFrame.mean()     \t     Return the mean of the values for the requested axis.\n",
    "Pandas DataFrame.melt()     \t     Unpivots the DataFrame from a wide format to a long format.\n",
    "Pandas DataFrame.merge()           \tMerge the two datasets together into one.\n",
    "Pandas DataFrame.pivot_table()     \tAggregate data with calculations such as Sum, Count, Average, Max, and Min.\n",
    "Pandas DataFrame.query()     \t     Filter the dataframe.\n",
    "Pandas DataFrame.sample()          \tSelect the rows and columns from the dataframe randomly.\n",
    "Pandas DataFrame.shift()          \tShift column or subtract the column value with the previous row value from the dataframe.\n",
    "Pandas DataFrame.sort()     \t     Sort the dataframe.\n",
    "Pandas DataFrame.sum()          \tReturn the sum of the values for the requested axis by the user.\n",
    "Pandas DataFrame.to_excel()     \tExport the dataframe to the excel file.\n",
    "Pandas DataFrame.transpose()     \tTranspose the index and columns of the dataframe.\n",
    "Pandas DataFrame.where()          \tCheck the dataframe for one or more conditions."
   ]
  },
  {
   "cell_type": "raw",
   "id": "900e2ca0",
   "metadata": {},
   "source": [
    "Một số function thông dụng cơ bản trong Pandas\n",
    "\n",
    "df.head(n): Hiển thị 'n' records đầu trong dataframe.\n",
    "df.tail(n): Hiện thị 'n' records cuối trong dataframe.\n",
    "df.shape: Hiển thị số dòng, số cột trong dataframe.\n",
    "df.info(): Hiển thị thông tin về dataframe như: số dòng, số cột, loại dữ liệu và giá trị NULL của mỗi cột.\n",
    "df.size: Hiển thị số phần tử của dataframe (size = số dòng x số cột).\n",
    "df.ndim: Hiển thị số chiều của dataframe.\n",
    "df.values: Hiển thị dataframe dưới dạng ma trận.\n",
    "\n",
    "df.T: Chuyển cột thành dòng và dòng thành cột trong dataframe.\n",
    "df.axes: Trả về giá trị là danh sách các dòng và các cột.\n",
    "df.dtypes: Trả về giá trị là loại dữ liệu của các cột.\n",
    "df.empty: Trả về giá trị là Boolean (True or False). True nếu có empty, False nếu không có empty.\n",
    "df.describe(): Thể hiện giá trị min, max, count, std... của dataframe.\n",
    "\n",
    "df.columns: List ra các columns có trong dataframe.\n",
    "df.to_string()\n",
    "df.isNull(): Kiểm tra có bao nhiêu giá trị Null trong dataframe\n",
    "\n",
    "df.append()\n",
    "df.dropna()\n",
    "df.drop_duplicates()\n",
    "\n",
    "df.value_counts(): đếm số lượng các giá trị (được groupby) trong column, giá trị NaN sẽ không đếm"
   ]
  },
  {
   "cell_type": "code",
   "execution_count": 23,
   "id": "6c5700d4",
   "metadata": {},
   "outputs": [
    {
     "data": {
      "text/html": [
       "<div>\n",
       "<style scoped>\n",
       "    .dataframe tbody tr th:only-of-type {\n",
       "        vertical-align: middle;\n",
       "    }\n",
       "\n",
       "    .dataframe tbody tr th {\n",
       "        vertical-align: top;\n",
       "    }\n",
       "\n",
       "    .dataframe thead th {\n",
       "        text-align: right;\n",
       "    }\n",
       "</style>\n",
       "<table border=\"1\" class=\"dataframe\">\n",
       "  <thead>\n",
       "    <tr style=\"text-align: right;\">\n",
       "      <th></th>\n",
       "      <th>Name</th>\n",
       "      <th>Age</th>\n",
       "      <th>Rating</th>\n",
       "    </tr>\n",
       "  </thead>\n",
       "  <tbody>\n",
       "    <tr>\n",
       "      <th>0</th>\n",
       "      <td>Tom</td>\n",
       "      <td>25</td>\n",
       "      <td>4.23</td>\n",
       "    </tr>\n",
       "    <tr>\n",
       "      <th>1</th>\n",
       "      <td>James</td>\n",
       "      <td>26</td>\n",
       "      <td>3.24</td>\n",
       "    </tr>\n",
       "    <tr>\n",
       "      <th>2</th>\n",
       "      <td>Ricky</td>\n",
       "      <td>25</td>\n",
       "      <td>3.98</td>\n",
       "    </tr>\n",
       "    <tr>\n",
       "      <th>3</th>\n",
       "      <td>Vin</td>\n",
       "      <td>23</td>\n",
       "      <td>2.56</td>\n",
       "    </tr>\n",
       "    <tr>\n",
       "      <th>4</th>\n",
       "      <td>Steve</td>\n",
       "      <td>30</td>\n",
       "      <td>3.20</td>\n",
       "    </tr>\n",
       "  </tbody>\n",
       "</table>\n",
       "</div>"
      ],
      "text/plain": [
       "    Name  Age  Rating\n",
       "0    Tom   25    4.23\n",
       "1  James   26    3.24\n",
       "2  Ricky   25    3.98\n",
       "3    Vin   23    2.56\n",
       "4  Steve   30    3.20"
      ]
     },
     "execution_count": 23,
     "metadata": {},
     "output_type": "execute_result"
    }
   ],
   "source": [
    "#Để thực hành một số function cơ bản, ta tiến hành tạo 1 dataframe như sau\n",
    "\n",
    "import pandas as pd\n",
    "import numpy as np\n",
    "\n",
    "# Tạo dictionar với cặp dữ liệu key:value, trong đó value là một list\n",
    "d = {'Name':['Tom','James','Ricky','Vin','Steve','Smith','Jack'],\n",
    "   'Age':[25,26,25,23,30,29,23],\n",
    "   'Rating':[4.23,3.24,3.98,2.56,3.20,4.6,3.8]}\n",
    "\n",
    "data = pd.DataFrame(d) # Lệnh tạo một dataframe từ dictionary 'd'\n",
    "data.head()"
   ]
  },
  {
   "cell_type": "markdown",
   "id": "3dabdc94",
   "metadata": {},
   "source": [
    "# describe()\n",
    "Hàm describe() được sử dụng với tham số include.\n",
    "Tham số include() này mặc định sẽ được bỏ qua.\n",
    "Khi đó, việc describe() sẽ được thực hiện trên các columns là number.\n",
    "Tham số include bao gồm 3 giá trị.\n",
    "\n",
    "- object − Summarizes String columns\n",
    "- number − Summarizes Numeric columns\n",
    "- all − Summarizes all columns together (Should not pass it as a list value)"
   ]
  },
  {
   "cell_type": "code",
   "execution_count": 5,
   "id": "d962c037",
   "metadata": {},
   "outputs": [
    {
     "data": {
      "text/html": [
       "<div>\n",
       "<style scoped>\n",
       "    .dataframe tbody tr th:only-of-type {\n",
       "        vertical-align: middle;\n",
       "    }\n",
       "\n",
       "    .dataframe tbody tr th {\n",
       "        vertical-align: top;\n",
       "    }\n",
       "\n",
       "    .dataframe thead th {\n",
       "        text-align: right;\n",
       "    }\n",
       "</style>\n",
       "<table border=\"1\" class=\"dataframe\">\n",
       "  <thead>\n",
       "    <tr style=\"text-align: right;\">\n",
       "      <th></th>\n",
       "      <th>Age</th>\n",
       "      <th>Rating</th>\n",
       "    </tr>\n",
       "  </thead>\n",
       "  <tbody>\n",
       "    <tr>\n",
       "      <th>count</th>\n",
       "      <td>7.000000</td>\n",
       "      <td>7.000000</td>\n",
       "    </tr>\n",
       "    <tr>\n",
       "      <th>mean</th>\n",
       "      <td>25.857143</td>\n",
       "      <td>3.658571</td>\n",
       "    </tr>\n",
       "    <tr>\n",
       "      <th>std</th>\n",
       "      <td>2.734262</td>\n",
       "      <td>0.698628</td>\n",
       "    </tr>\n",
       "    <tr>\n",
       "      <th>min</th>\n",
       "      <td>23.000000</td>\n",
       "      <td>2.560000</td>\n",
       "    </tr>\n",
       "    <tr>\n",
       "      <th>25%</th>\n",
       "      <td>24.000000</td>\n",
       "      <td>3.220000</td>\n",
       "    </tr>\n",
       "    <tr>\n",
       "      <th>50%</th>\n",
       "      <td>25.000000</td>\n",
       "      <td>3.800000</td>\n",
       "    </tr>\n",
       "    <tr>\n",
       "      <th>75%</th>\n",
       "      <td>27.500000</td>\n",
       "      <td>4.105000</td>\n",
       "    </tr>\n",
       "    <tr>\n",
       "      <th>max</th>\n",
       "      <td>30.000000</td>\n",
       "      <td>4.600000</td>\n",
       "    </tr>\n",
       "  </tbody>\n",
       "</table>\n",
       "</div>"
      ],
      "text/plain": [
       "             Age    Rating\n",
       "count   7.000000  7.000000\n",
       "mean   25.857143  3.658571\n",
       "std     2.734262  0.698628\n",
       "min    23.000000  2.560000\n",
       "25%    24.000000  3.220000\n",
       "50%    25.000000  3.800000\n",
       "75%    27.500000  4.105000\n",
       "max    30.000000  4.600000"
      ]
     },
     "execution_count": 5,
     "metadata": {},
     "output_type": "execute_result"
    }
   ],
   "source": [
    "# Xem mô tả của cả dataframe\n",
    "data.describe() # Thực hiện trên columns có giá trị là number\n",
    "\n",
    "data.describe(include='all') # thực hiện trên tất cả các columns (cả object và number)"
   ]
  },
  {
   "cell_type": "raw",
   "id": "42de86a2",
   "metadata": {},
   "source": [
    "Vấn đề đặt ra: Giả sử trong trường hợp dữ liệu của chúng ta rất nhiều, dataframe rất lớn. Nếu thực hiện nhữn function này trên toàn bộ dataframe thì sẽ rất tốn tài nguyên máy tính và thời gian.\n",
    "\n",
    "Để tiết kiệm và việc tính toán được nhanh chóng, ta nên thực hiện trên columns."
   ]
  },
  {
   "cell_type": "code",
   "execution_count": 60,
   "id": "2c32a9b7",
   "metadata": {},
   "outputs": [
    {
     "data": {
      "text/plain": [
       "count     7.000000\n",
       "mean     25.857143\n",
       "std       2.734262\n",
       "min      23.000000\n",
       "25%      24.000000\n",
       "50%      25.000000\n",
       "75%      27.500000\n",
       "max      30.000000\n",
       "Name: Age, dtype: float64"
      ]
     },
     "execution_count": 60,
     "metadata": {},
     "output_type": "execute_result"
    }
   ],
   "source": [
    "# Xem mô tả dữ liệu trên columns 'Age'\n",
    "# Thực hiện việc lấy column trong dataframe, sau đó áp dụng function giống như khi thực hiện trên dataframe\n",
    "\n",
    "data['Age'].describe()"
   ]
  },
  {
   "cell_type": "markdown",
   "id": "ee646abe",
   "metadata": {},
   "source": [
    "# isnull()"
   ]
  },
  {
   "cell_type": "code",
   "execution_count": 21,
   "id": "6d611be8",
   "metadata": {},
   "outputs": [
    {
     "data": {
      "text/plain": [
       "False"
      ]
     },
     "execution_count": 21,
     "metadata": {},
     "output_type": "execute_result"
    }
   ],
   "source": [
    "# Kiểm tra giá trị Null của dataframe\n",
    "# Một vài ví dụ\n",
    "\n",
    "data.isnull() # Kiểm tra giá trị Null và trả về 1 dataframe các giá trị True or False\n",
    "\n",
    "data.isnull().any() # Trả về kết quả là các columns với giá trị True or False cho từng column\n",
    "\n",
    "data.isnull().any().any() # Trả về kết quả là True or False cho cả dataframe\n",
    "\n",
    "data.isnull().sum() # đếm các giá trị Null có trong từng column\n",
    "\n",
    "data.isnull().sum().sum() # đếm số lượng các giá trị Null trong toàn dataframe\n",
    "\n",
    "data['Age'].isnull().sum()\n",
    "\n"
   ]
  },
  {
   "cell_type": "markdown",
   "id": "a6d612cc",
   "metadata": {},
   "source": [
    "# info()"
   ]
  },
  {
   "cell_type": "code",
   "execution_count": 6,
   "id": "454202b8",
   "metadata": {},
   "outputs": [
    {
     "name": "stdout",
     "output_type": "stream",
     "text": [
      "<class 'pandas.core.frame.DataFrame'>\n",
      "RangeIndex: 7 entries, 0 to 6\n",
      "Data columns (total 3 columns):\n",
      " #   Column  Non-Null Count  Dtype  \n",
      "---  ------  --------------  -----  \n",
      " 0   Name    7 non-null      object \n",
      " 1   Age     7 non-null      int64  \n",
      " 2   Rating  7 non-null      float64\n",
      "dtypes: float64(1), int64(1), object(1)\n",
      "memory usage: 296.0+ bytes\n"
     ]
    }
   ],
   "source": [
    "# Xem mô thông tin dataframe\n",
    "data.info()"
   ]
  },
  {
   "cell_type": "markdown",
   "id": "aa4f2c01",
   "metadata": {},
   "source": [
    "# dropna()\n",
    "Syntax: DataFrameName.dropna(axis=0, how='any', thresh=None, subset=None, inplace=False)\n",
    "- asix=0 (index) remove dòng nào có giá trị NA. axis=1 (columns) remove cột nào có giá trị NA\n",
    "- how=all hoặc any. Giá trị mặc định là any. All: Remove dòng hoặc cột chứa tất cả giá trị NA. Any: remove nếu trong dòng hoặc cột có 1 giá trị NA.\n",
    "- thresh=3: remove dòng hoặc cột nếu có 3 giá trị NA\n",
    "- subset=[colum1. colum2]: Kiểm tra giá trị NA các columns trong subset thay vì toàn bộ dataframe"
   ]
  },
  {
   "cell_type": "code",
   "execution_count": null,
   "id": "675d00f1",
   "metadata": {},
   "outputs": [],
   "source": []
  },
  {
   "cell_type": "markdown",
   "id": "c5f79fa3",
   "metadata": {},
   "source": [
    "# Summarizing Data\n",
    "\n",
    "Hàm describe() được sử dụng với tham số include. Tham số include() này mặc định sẽ được bỏ qua. Khi đó, việc describe() sẽ được thực hiện trên các columns là number.\n",
    "\n",
    "Tham số include bao gồm 3 giá trị.\n",
    "- object − Summarizes String columns\n",
    "- number − Summarizes Numeric columns\n",
    "- all − Summarizes all columns together (Should not pass it as a list value)"
   ]
  },
  {
   "cell_type": "code",
   "execution_count": 73,
   "id": "51dbfee3",
   "metadata": {},
   "outputs": [
    {
     "data": {
      "text/html": [
       "<div>\n",
       "<style scoped>\n",
       "    .dataframe tbody tr th:only-of-type {\n",
       "        vertical-align: middle;\n",
       "    }\n",
       "\n",
       "    .dataframe tbody tr th {\n",
       "        vertical-align: top;\n",
       "    }\n",
       "\n",
       "    .dataframe thead th {\n",
       "        text-align: right;\n",
       "    }\n",
       "</style>\n",
       "<table border=\"1\" class=\"dataframe\">\n",
       "  <thead>\n",
       "    <tr style=\"text-align: right;\">\n",
       "      <th></th>\n",
       "      <th>Name</th>\n",
       "      <th>Age</th>\n",
       "      <th>Rating</th>\n",
       "    </tr>\n",
       "  </thead>\n",
       "  <tbody>\n",
       "    <tr>\n",
       "      <th>count</th>\n",
       "      <td>7</td>\n",
       "      <td>7.000000</td>\n",
       "      <td>7.000000</td>\n",
       "    </tr>\n",
       "    <tr>\n",
       "      <th>unique</th>\n",
       "      <td>7</td>\n",
       "      <td>NaN</td>\n",
       "      <td>NaN</td>\n",
       "    </tr>\n",
       "    <tr>\n",
       "      <th>top</th>\n",
       "      <td>Tom</td>\n",
       "      <td>NaN</td>\n",
       "      <td>NaN</td>\n",
       "    </tr>\n",
       "    <tr>\n",
       "      <th>freq</th>\n",
       "      <td>1</td>\n",
       "      <td>NaN</td>\n",
       "      <td>NaN</td>\n",
       "    </tr>\n",
       "    <tr>\n",
       "      <th>mean</th>\n",
       "      <td>NaN</td>\n",
       "      <td>25.857143</td>\n",
       "      <td>3.658571</td>\n",
       "    </tr>\n",
       "    <tr>\n",
       "      <th>std</th>\n",
       "      <td>NaN</td>\n",
       "      <td>2.734262</td>\n",
       "      <td>0.698628</td>\n",
       "    </tr>\n",
       "    <tr>\n",
       "      <th>min</th>\n",
       "      <td>NaN</td>\n",
       "      <td>23.000000</td>\n",
       "      <td>2.560000</td>\n",
       "    </tr>\n",
       "    <tr>\n",
       "      <th>25%</th>\n",
       "      <td>NaN</td>\n",
       "      <td>24.000000</td>\n",
       "      <td>3.220000</td>\n",
       "    </tr>\n",
       "    <tr>\n",
       "      <th>50%</th>\n",
       "      <td>NaN</td>\n",
       "      <td>25.000000</td>\n",
       "      <td>3.800000</td>\n",
       "    </tr>\n",
       "    <tr>\n",
       "      <th>75%</th>\n",
       "      <td>NaN</td>\n",
       "      <td>27.500000</td>\n",
       "      <td>4.105000</td>\n",
       "    </tr>\n",
       "    <tr>\n",
       "      <th>max</th>\n",
       "      <td>NaN</td>\n",
       "      <td>30.000000</td>\n",
       "      <td>4.600000</td>\n",
       "    </tr>\n",
       "  </tbody>\n",
       "</table>\n",
       "</div>"
      ],
      "text/plain": [
       "       Name        Age    Rating\n",
       "count     7   7.000000  7.000000\n",
       "unique    7        NaN       NaN\n",
       "top     Tom        NaN       NaN\n",
       "freq      1        NaN       NaN\n",
       "mean    NaN  25.857143  3.658571\n",
       "std     NaN   2.734262  0.698628\n",
       "min     NaN  23.000000  2.560000\n",
       "25%     NaN  24.000000  3.220000\n",
       "50%     NaN  25.000000  3.800000\n",
       "75%     NaN  27.500000  4.105000\n",
       "max     NaN  30.000000  4.600000"
      ]
     },
     "execution_count": 73,
     "metadata": {},
     "output_type": "execute_result"
    }
   ],
   "source": [
    "data.describe(include='all')"
   ]
  },
  {
   "cell_type": "markdown",
   "id": "c4497669",
   "metadata": {},
   "source": [
    "# Reindexing\n",
    "Index mang ý nghĩa định danh cho các dòng trong dataframe. Index đặc biệt quan trọng trong việc ghép nối dữ liệu lại với nhau."
   ]
  },
  {
   "cell_type": "code",
   "execution_count": null,
   "id": "4f44fdd3",
   "metadata": {},
   "outputs": [],
   "source": [
    "# Ví dụ câu lệnh reindex()\n",
    "\n",
    "ordered = ['Jan','Apr','Jul','Oct']\n",
    "\n",
    "quarterly_sales_2016.reindex(ordered)"
   ]
  },
  {
   "cell_type": "code",
   "execution_count": null,
   "id": "d05fe20b",
   "metadata": {},
   "outputs": [],
   "source": []
  },
  {
   "cell_type": "code",
   "execution_count": null,
   "id": "1970cf10",
   "metadata": {},
   "outputs": [],
   "source": []
  }
 ],
 "metadata": {
  "kernelspec": {
   "display_name": "Python 3",
   "language": "python",
   "name": "python3"
  },
  "language_info": {
   "codemirror_mode": {
    "name": "ipython",
    "version": 3
   },
   "file_extension": ".py",
   "mimetype": "text/x-python",
   "name": "python",
   "nbconvert_exporter": "python",
   "pygments_lexer": "ipython3",
   "version": "3.8.5"
  }
 },
 "nbformat": 4,
 "nbformat_minor": 5
}
