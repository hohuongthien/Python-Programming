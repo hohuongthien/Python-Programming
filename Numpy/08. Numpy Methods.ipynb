{
 "cells": [
  {
   "cell_type": "markdown",
   "id": "aae599f9",
   "metadata": {},
   "source": [
    "# Sorting data in array"
   ]
  },
  {
   "cell_type": "code",
   "execution_count": 16,
   "id": "da452a28",
   "metadata": {},
   "outputs": [
    {
     "name": "stdout",
     "output_type": "stream",
     "text": [
      "[[1 2 1]\n",
      " [4 3 5]]\n"
     ]
    }
   ],
   "source": [
    "import numpy as np\n",
    "\n",
    "a = np.array([[4, 3, 5], [1, 2, 1]])\n",
    "\n",
    "# Sắp xếp tăng dần theo hàng\n",
    "b = np.sort(a,axis=1) # sort mảng a, sau đó gán vào b, thứ tự mảng a không thay đổi\n",
    "\n",
    "# Sắp xếp tăng dần theo cột\n",
    "a.sort(axis=0) # Sort trực tiếp trên mảng a, mảng a thay đổi vị trí so với ban đầu\n",
    "\n",
    "print(a)"
   ]
  },
  {
   "cell_type": "code",
   "execution_count": 23,
   "id": "9fce6006",
   "metadata": {},
   "outputs": [
    {
     "name": "stdout",
     "output_type": "stream",
     "text": [
      "[5 4 3 2 1]\n"
     ]
    }
   ],
   "source": [
    "# Sắp xếp mảng theo thứ tự giảm dần\n",
    "\n",
    "x = np.array([5, 2, 3, 1, 4])\n",
    "\n",
    "# Cách viết thứ 1, làm thay đổi mảng a ban đầu\n",
    "x[::-1].sort()\n",
    "\n",
    "# Cách viết thứ 2, không làm thay đổi mảng a ban đầu\n",
    "y = np.sort(x)[::-1]\n",
    "\n",
    "print(y)"
   ]
  },
  {
   "cell_type": "code",
   "execution_count": 39,
   "id": "62821bab",
   "metadata": {},
   "outputs": [
    {
     "name": "stdout",
     "output_type": "stream",
     "text": [
      "['apple' 'banana' 'cherry']\n"
     ]
    }
   ],
   "source": [
    "# Ví dụ sắp xếp các phần tử là string\n",
    "import numpy as np\n",
    "str = np.array(['banana', 'cherry', 'apple'])\n",
    "print(np.sort(str))"
   ]
  },
  {
   "cell_type": "markdown",
   "id": "55628ab6",
   "metadata": {},
   "source": [
    "# Iterating Arrays\n",
    "Iterating có nghĩa là duyệt qua từng phần tử trong mảng"
   ]
  },
  {
   "cell_type": "code",
   "execution_count": 26,
   "id": "6f5edad1",
   "metadata": {},
   "outputs": [
    {
     "name": "stdout",
     "output_type": "stream",
     "text": [
      "8\n",
      "2\n",
      "3\n",
      "6\n",
      "1\n",
      "3\n"
     ]
    }
   ],
   "source": [
    "import numpy as np\n",
    "\n",
    "a1 = np.array([8, 2, 3,6, 1, 3]) # Mảng 1 chiều\n",
    "a2 = np.array([[1, 2, 3], [4, 5, 6]]) # Mảng 2 chiều\n",
    "a3 = np.array([[[1, 2, 3], [4, 5, 6]], [[7, 8, 9], [10, 11, 12]]]) # Mảng 3 chiều\n",
    "\n",
    "# In ra các phần tử có trong mảng 1 chiều\n",
    "for x in a1:\n",
    "    print(x)\n",
    "    \n",
    "# In ra từng dòng trong mảng 2 chiều\n",
    "for x in arr:\n",
    "    print(x)\n",
    "\n",
    "# In ra các phần tử trong mảng 2 chiều\n",
    "for x in a2:\n",
    "    for y in x:\n",
    "        print(y)     \n",
    "\n",
    "# In ra các phần tử trong mảng 3 chiều\n",
    "for x in a3:\n",
    "    for y in x:\n",
    "        for z in y:\n",
    "            print(z) "
   ]
  },
  {
   "cell_type": "code",
   "execution_count": 38,
   "id": "062b97d7",
   "metadata": {},
   "outputs": [
    {
     "name": "stdout",
     "output_type": "stream",
     "text": [
      "1\n",
      "2\n",
      "3\n",
      "4\n",
      "5\n",
      "6\n",
      "7\n",
      "8\n"
     ]
    }
   ],
   "source": [
    "# In tất cả các phần tử trong các scalar element\n",
    "# Thay vì dùng vòng lặp for để duyệt qua tất scalar, ta dùng funtion ndinter(array)\n",
    "import numpy as np\n",
    "\n",
    "a3 = np.array([[[1, 2], [3, 4]], [[5, 6], [7, 8]]])\n",
    "\n",
    "for x in np.nditer(a3):\n",
    "    print(x) "
   ]
  },
  {
   "cell_type": "markdown",
   "id": "ef29095c",
   "metadata": {},
   "source": [
    "# Joining Arrays"
   ]
  },
  {
   "cell_type": "code",
   "execution_count": 43,
   "id": "3872a60f",
   "metadata": {},
   "outputs": [
    {
     "name": "stdout",
     "output_type": "stream",
     "text": [
      "[3 1 4 2 8 6]\n"
     ]
    }
   ],
   "source": [
    "# Nối 2 mảng 1 chiều\n",
    "import numpy as np\n",
    "arr1 = np.array([3, 1, 4])\n",
    "arr2 = np.array([2, 8, 6])\n",
    "\n",
    "arr = np.concatenate((arr1, arr2))\n",
    "\n",
    "print(arr) "
   ]
  },
  {
   "cell_type": "code",
   "execution_count": 55,
   "id": "5d30d354",
   "metadata": {},
   "outputs": [
    {
     "name": "stdout",
     "output_type": "stream",
     "text": [
      "[[1 2 5 6]\n",
      " [3 4 7 8]]\n"
     ]
    }
   ],
   "source": [
    "# Nối 2 mảng nhiều chiều\n",
    "import numpy as np\n",
    "arr1 = np.array([[1, 2], [3, 4]])\n",
    "arr2 = np.array([[5, 6], [7, 8]])\n",
    "\n",
    "arr = np.concatenate((arr1, arr2), axis=1) # nối 2 mảng theo hàng (dòng)\n",
    "\n",
    "print(arr)"
   ]
  },
  {
   "cell_type": "markdown",
   "id": "90203665",
   "metadata": {},
   "source": [
    "# Splitting Arrays"
   ]
  },
  {
   "cell_type": "code",
   "execution_count": 63,
   "id": "3ee5f95a",
   "metadata": {},
   "outputs": [
    {
     "name": "stdout",
     "output_type": "stream",
     "text": [
      "[array([1, 2]), array([3, 4]), array([5]), array([6])]\n"
     ]
    }
   ],
   "source": [
    "import numpy as np\n",
    "\n",
    "arr = np.array([1, 2, 3, 4, 5, 6])\n",
    "\n",
    "newarr = np.array_split(arr, 4) # Splitting thành 4 array khác nhau\n",
    "\n",
    "print(newarr)"
   ]
  },
  {
   "cell_type": "markdown",
   "id": "f89f36b7",
   "metadata": {},
   "source": [
    "# Searching Arrays\n",
    "Tìm vị trí của phần tử muốn tìm kiếm với một điều kiện nào đó"
   ]
  },
  {
   "cell_type": "code",
   "execution_count": 67,
   "id": "50a01cbf",
   "metadata": {},
   "outputs": [
    {
     "name": "stdout",
     "output_type": "stream",
     "text": [
      "(array([0, 2, 4], dtype=int64),)\n"
     ]
    }
   ],
   "source": [
    "import numpy as np\n",
    "arr = np.array([1, 2, 3, 4, 5, 4, 4])\n",
    "\n",
    "# Tìm vị trí của phần tử có giá trị = 4\n",
    "x = np.where(arr == 4)\n",
    "\n",
    "# Tìm vị trí của các phần tử có giá trị lẻ\n",
    "x = np.where(arr%2 == 1)\n",
    "\n",
    "\n",
    "print(x) "
   ]
  },
  {
   "cell_type": "code",
   "execution_count": null,
   "id": "987f6205",
   "metadata": {},
   "outputs": [],
   "source": []
  },
  {
   "cell_type": "code",
   "execution_count": 79,
   "id": "b9a56a77",
   "metadata": {},
   "outputs": [],
   "source": []
  }
 ],
 "metadata": {
  "kernelspec": {
   "display_name": "Python 3",
   "language": "python",
   "name": "python3"
  },
  "language_info": {
   "codemirror_mode": {
    "name": "ipython",
    "version": 3
   },
   "file_extension": ".py",
   "mimetype": "text/x-python",
   "name": "python",
   "nbconvert_exporter": "python",
   "pygments_lexer": "ipython3",
   "version": "3.8.5"
  }
 },
 "nbformat": 4,
 "nbformat_minor": 5
}
