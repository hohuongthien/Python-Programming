{
 "cells": [
  {
   "cell_type": "markdown",
   "id": "ca68ba6d",
   "metadata": {},
   "source": [
    "# import from file .txt\n",
    "Có 2 fucntion để import file to Numpy"
   ]
  },
  {
   "cell_type": "markdown",
   "id": "091777f3",
   "metadata": {},
   "source": [
    "Phương thức 1:\n",
    "\n",
    "numpy.loadtxt(fname, dtype = float, comments=’#’, delimiter=None, converters=None, skiprows=0, usecols=None, unpack=False, ndmin=0, encoding=’bytes’, max_rows=None, *, like= None)"
   ]
  },
  {
   "cell_type": "code",
   "execution_count": 7,
   "id": "31d09ced",
   "metadata": {},
   "outputs": [
    {
     "name": "stdout",
     "output_type": "stream",
     "text": [
      "[[ 1  2]\n",
      " [ 3  4]\n",
      " [ 5  6]\n",
      " [ 7  8]\n",
      " [ 9 10]]\n",
      "[['2' 'Bunty']\n",
      " ['3' 'Tinku']\n",
      " ['4' 'Rina']]\n",
      "['Anket' 'Bunty' 'Tinku' 'Rina' 'Rajesh']\n"
     ]
    }
   ],
   "source": [
    "\n",
    "import numpy as np\n",
    "\n",
    "# Ví dụ 1: import dữ liệu từ file sample1, chuyển kiểu dữ liệu sang int\n",
    "data = np.loadtxt(\"sample1.txt\", dtype=int)\n",
    "print(data)\n",
    "\n",
    "# Ví dụ 2: import dữ liệu từ file sample2, chuyển kiểu dữ liệu sang string\n",
    "# bỏ qua dữ liệu ở dòng thứ 1\n",
    "data = np.loadtxt(\"sample2.txt\", skiprows=1, dtype='str')\n",
    "print(data)\n",
    "\n",
    "\n",
    "# Ví dụ 3: import dữ liệu từ file sample3\n",
    "# Chỉ sử dụng dữ liệu ở cột thứ 1\n",
    "# bỏ qua dữ liệu ở dòng thứ 1\n",
    "data = np.loadtxt(\"sample3.txt\", usecols=1, skiprows=1, dtype='str')\n",
    "print(data)\n"
   ]
  },
  {
   "cell_type": "code",
   "execution_count": null,
   "id": "f5ad5bb0",
   "metadata": {},
   "outputs": [],
   "source": []
  },
  {
   "cell_type": "markdown",
   "id": "b22ef6e8",
   "metadata": {},
   "source": [
    "Phương thức 2:\n",
    "\n",
    "numpy.genfromtxt(fname, dtype=float, comments=’#’, delimiter=None, skip_header=0, skip_footer=0, converters=None, missing_values=None, filling_values=None, usecols=None, names=None,excludelist=None, deletechars=” !#$%&'()*+, -./:;<=>?@[\\\\]^{|}~”, replace_space=’_’, autostrip=False, case_sensitive=True, defaultfmt=’f%i’, unpack=None, usemask=False, loose=True, invalid_raise=True, max_rows=None, encoding=’bytes’, *, like=None)"
   ]
  },
  {
   "cell_type": "code",
   "execution_count": 10,
   "id": "79c532a5",
   "metadata": {},
   "outputs": [
    {
     "name": "stdout",
     "output_type": "stream",
     "text": [
      "[['a' 'b' 'c' 'd']\n",
      " ['e' 'f' 'g' 'h']\n",
      " ['q' 'e' 'r' 't']]\n",
      "['This' 'is' 'the' 'Numpy' 'library.']\n"
     ]
    }
   ],
   "source": [
    "import numpy as np\n",
    "\n",
    "# import dữ liệu từ file sample4.txt, dữ liệu giữa các phần tử được phân các bằng dấu ,\n",
    "data = np.genfromtxt(\"sample4.txt\", dtype=str, encoding=None, delimiter=\",\")\n",
    "print(data)\n",
    "\n",
    "# import dữ liệu từ file sample5.txt\n",
    "# bỏ qua dòng cuối cùng trong file\n",
    "data = np.genfromtxt(\"sample5.txt\", dtype=str, encoding=None, skip_footer=1)\n",
    "print(data)"
   ]
  },
  {
   "cell_type": "markdown",
   "id": "48a32e42",
   "metadata": {},
   "source": [
    "# Save array to file"
   ]
  },
  {
   "cell_type": "code",
   "execution_count": 7,
   "id": "a0268ee7",
   "metadata": {},
   "outputs": [],
   "source": [
    "import numpy as np\n",
    "\n",
    "a = np.array([[4, 3, 5], [1, 2, 1]],dtype=float)\n",
    "b = np.array([[4, 6, 7, 9],[4, 1, 3, 8]])\n",
    "\n",
    "np.savetxt('arr_to_file1.txt', a, delimiter=' ')"
   ]
  },
  {
   "cell_type": "code",
   "execution_count": 5,
   "id": "9c3d35b1",
   "metadata": {},
   "outputs": [
    {
     "data": {
      "text/plain": [
       "numpy.ndarray"
      ]
     },
     "execution_count": 5,
     "metadata": {},
     "output_type": "execute_result"
    }
   ],
   "source": [
    "type(a)"
   ]
  },
  {
   "cell_type": "code",
   "execution_count": null,
   "id": "95adff82",
   "metadata": {},
   "outputs": [],
   "source": []
  }
 ],
 "metadata": {
  "kernelspec": {
   "display_name": "Python 3",
   "language": "python",
   "name": "python3"
  },
  "language_info": {
   "codemirror_mode": {
    "name": "ipython",
    "version": 3
   },
   "file_extension": ".py",
   "mimetype": "text/x-python",
   "name": "python",
   "nbconvert_exporter": "python",
   "pygments_lexer": "ipython3",
   "version": "3.8.5"
  }
 },
 "nbformat": 4,
 "nbformat_minor": 5
}
