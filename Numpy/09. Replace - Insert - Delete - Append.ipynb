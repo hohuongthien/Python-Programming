{
 "cells": [
  {
   "cell_type": "markdown",
   "id": "7e13c99d",
   "metadata": {},
   "source": [
    "# Appending element"
   ]
  },
  {
   "cell_type": "code",
   "execution_count": 41,
   "id": "859f00af",
   "metadata": {},
   "outputs": [
    {
     "name": "stdout",
     "output_type": "stream",
     "text": [
      "[6 4 5 8]\n",
      "[ 6  4  5  2  7 10]\n"
     ]
    }
   ],
   "source": [
    "# Thêm 1 phần tử vào cuối mảng\n",
    "import numpy as np\n",
    "arr = np.array([6, 4, 5])\n",
    "\n",
    "# Thêm vào 1 giá trị\n",
    "new_arr = np.append(arr,8)\n",
    "print(new_arr)\n",
    "\n",
    "#Thêm vào nhiều giá trị cùng lúc\n",
    "new_arr = np.append(arr,[2,7,10])\n",
    "print(new_arr)\n"
   ]
  },
  {
   "cell_type": "code",
   "execution_count": 46,
   "id": "a56a2e4d",
   "metadata": {},
   "outputs": [
    {
     "name": "stdout",
     "output_type": "stream",
     "text": [
      "[[ 1  2  3]\n",
      " [ 4  5  6]\n",
      " [50 60 70]]\n"
     ]
    }
   ],
   "source": [
    "# Thêm giá trị vào mảng 2 chiều\n",
    "a = np.array([[1, 2, 3], [4, 5, 6]])\n",
    "\n",
    "new_arr = np.append(a, [[50, 60, 70]], axis = 0)\n",
    "\n",
    "print(new_arr)\n"
   ]
  },
  {
   "cell_type": "markdown",
   "id": "f8ea928c",
   "metadata": {},
   "source": [
    "# Replacing element"
   ]
  },
  {
   "cell_type": "code",
   "execution_count": 9,
   "id": "5a0f5923",
   "metadata": {},
   "outputs": [
    {
     "name": "stdout",
     "output_type": "stream",
     "text": [
      "[9 2 3 4 5 4 4]\n"
     ]
    }
   ],
   "source": [
    "# Muốn thay đổi giá trị ở vị trí nào trong mảng\n",
    "# ta truy xuất đến vị trí đó và gán vào giá trị mới\n",
    "import numpy as np\n",
    "arr = np.array([1, 2, 3, 4, 5, 4, 4])\n",
    "\n",
    "# Thay đổi giá trị của phần tử đầu tiên thành giá trị = 9\n",
    "arr[0] = 9\n",
    "print(arr)"
   ]
  },
  {
   "cell_type": "markdown",
   "id": "527aa77b",
   "metadata": {},
   "source": [
    "# Inserting new element"
   ]
  },
  {
   "cell_type": "code",
   "execution_count": 17,
   "id": "3a47769a",
   "metadata": {},
   "outputs": [
    {
     "name": "stdout",
     "output_type": "stream",
     "text": [
      "[ 1 11  2  3  4  5  4  4]\n"
     ]
    }
   ],
   "source": [
    "# Insert 1 phần tử mới vào 1 vị trí nào đó trong mảng 1 chiều\n",
    "import numpy as np\n",
    "arr = np.array([1, 2, 3, 4, 5, 4, 4])\n",
    "\n",
    "# Chèn giá trị 11 vào vị trí thứ 2 trong mảng\n",
    "new_arr = np.insert(arr,1,11)\n",
    "\n",
    "print(new_arr)"
   ]
  },
  {
   "cell_type": "markdown",
   "id": "8fdffd42",
   "metadata": {},
   "source": [
    "# Deleting a element"
   ]
  },
  {
   "cell_type": "code",
   "execution_count": 47,
   "id": "56588505",
   "metadata": {},
   "outputs": [
    {
     "name": "stdout",
     "output_type": "stream",
     "text": [
      "[11  2  3  4  5  4  4]\n",
      "[2 3 4 5 4 4]\n"
     ]
    }
   ],
   "source": [
    "import numpy as np\n",
    "arr = np.array([11, 2, 3, 4, 5, 4, 4])\n",
    "\n",
    "print(arr)\n",
    "\n",
    "# Xóa phần tử đầu tiên trong mảng\n",
    "new_arr = np.delete(arr,0)\n",
    "\n",
    "print(new_arr)"
   ]
  },
  {
   "cell_type": "code",
   "execution_count": null,
   "id": "2796b95b",
   "metadata": {},
   "outputs": [],
   "source": []
  }
 ],
 "metadata": {
  "kernelspec": {
   "display_name": "Python 3",
   "language": "python",
   "name": "python3"
  },
  "language_info": {
   "codemirror_mode": {
    "name": "ipython",
    "version": 3
   },
   "file_extension": ".py",
   "mimetype": "text/x-python",
   "name": "python",
   "nbconvert_exporter": "python",
   "pygments_lexer": "ipython3",
   "version": "3.8.5"
  }
 },
 "nbformat": 4,
 "nbformat_minor": 5
}
