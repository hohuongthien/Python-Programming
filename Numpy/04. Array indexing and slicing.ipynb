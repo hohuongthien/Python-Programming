{
 "cells": [
  {
   "cell_type": "markdown",
   "id": "13644685",
   "metadata": {},
   "source": [
    "# Truy xuất các items trong mảng\n",
    "Các item trong mảng được đánh số (index)\n",
    "Dòng của ma trận được đánh số từ trên xuống, bắt đầu = 0\n",
    "Cột của ma trận được đánh số từ trái qua phải, bắt đầu = 0"
   ]
  },
  {
   "cell_type": "code",
   "execution_count": 2,
   "id": "f6d4d258",
   "metadata": {},
   "outputs": [
    {
     "name": "stdout",
     "output_type": "stream",
     "text": [
      "2\n",
      "[1 2]\n",
      "[2 3 4]\n",
      "[3 4]\n"
     ]
    }
   ],
   "source": [
    "import numpy as np\n",
    "\n",
    "arr = np.array([1, 2, 3, 4])\n",
    "\n",
    "# Xuất ra phần tử thứ 1 trong mảng\n",
    "print(arr[1]) \n",
    "\n",
    "# Xuất ra 2 phần tử đầu tiên của mảng\n",
    "print(arr[:2])\n",
    "\n",
    "# Xuất ra các phần tử từ phần tử thứ 1 đến hết mảng\n",
    "print(arr[1:])\n",
    "\n",
    "# Xuất ra 2 phần tử cuối của mảng\n",
    "print(arr[-2:])"
   ]
  },
  {
   "cell_type": "code",
   "execution_count": null,
   "id": "1c05134b",
   "metadata": {},
   "outputs": [],
   "source": [
    "import numpy as np\n",
    " \n",
    "# Khởi tạo numpy array có shape = (3, 4) có giá trị như sau:\n",
    "# [[ 1  2  3  4]\n",
    "#  [ 5  6  7  8]\n",
    "#  [ 9 10 11 12]]\n",
    "a = np.array([[1,2,3,4], [5,6,7,8], [9,10,11,12]])\n",
    " \n",
    "# Sử dụng slicing để tạo numpy array b bằng cách lấy 2 hàng đầu tiên\n",
    "# và cột 1, 2. Như vậy b sẽ có shape = (2, 2):\n",
    "# [[2 3]\n",
    "#  [6 7]]\n",
    "b = a[:2, 1:3]\n",
    " \n",
    "# Một array tạo ra từ slicing sẽ có cùng địa chỉ với array gốc.\n",
    "# Nếu thay đổi 1 trong 2 thì array còn lại cũng thay đổi.\n",
    "print(a[0, 1])   # Prints \"2\"\n",
    "b[0, 0] = 77     # b[0, 0] ở đây tương đương với a[0, 1]\n",
    "print(a[0, 1])   # Prints \"77\""
   ]
  }
 ],
 "metadata": {
  "kernelspec": {
   "display_name": "Python 3",
   "language": "python",
   "name": "python3"
  },
  "language_info": {
   "codemirror_mode": {
    "name": "ipython",
    "version": 3
   },
   "file_extension": ".py",
   "mimetype": "text/x-python",
   "name": "python",
   "nbconvert_exporter": "python",
   "pygments_lexer": "ipython3",
   "version": "3.8.5"
  }
 },
 "nbformat": 4,
 "nbformat_minor": 5
}
