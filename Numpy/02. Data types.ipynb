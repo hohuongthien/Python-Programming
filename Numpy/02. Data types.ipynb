{
 "cells": [
  {
   "cell_type": "markdown",
   "id": "e13f996d",
   "metadata": {},
   "source": [
    "Trong Python, có các loại data cơ bản như: String, Integer, float, boolean, complex\n",
    "\n",
    "Trong Numpy, data types được mở rộng thêm một số loại như sau:\n",
    "\n",
    "    i - integer\n",
    "    b - boolean\n",
    "    u - unsigned integer\n",
    "    f - float\n",
    "    c - complex float\n",
    "    m - timedelta\n",
    "    M - datetime\n",
    "    O - object\n",
    "    S - string\n",
    "    U - unicode string\n",
    "    V - fixed chunk of memory for other type ( void )\n",
    "Các đối tượng trong Numpy có thuộc tính dtype dùng để kiểm tra loại dữ liệu của 1 mảng."
   ]
  },
  {
   "cell_type": "code",
   "execution_count": 1,
   "id": "3413c1ab",
   "metadata": {},
   "outputs": [
    {
     "name": "stdout",
     "output_type": "stream",
     "text": [
      "float64\n",
      "<U6\n"
     ]
    }
   ],
   "source": [
    "import numpy as np\n",
    "\n",
    "arr1 = np.array([1, 2, 3, 4],dtype = 'float')\n",
    "arr2 = np.array([\"apple\", \"banana\", \"cherry\"])\n",
    "\n",
    "print(arr1.dtype)\n",
    "\n",
    "print(arr2.dtype)"
   ]
  },
  {
   "cell_type": "code",
   "execution_count": 10,
   "id": "6ea82fba",
   "metadata": {},
   "outputs": [],
   "source": [
    "arr1 = np.array(arr1,dtype='int')"
   ]
  },
  {
   "cell_type": "code",
   "execution_count": 11,
   "id": "46b0f48d",
   "metadata": {},
   "outputs": [
    {
     "data": {
      "text/plain": [
       "dtype('int32')"
      ]
     },
     "execution_count": 11,
     "metadata": {},
     "output_type": "execute_result"
    }
   ],
   "source": [
    "arr1.dtype"
   ]
  },
  {
   "cell_type": "code",
   "execution_count": 6,
   "id": "ee2ba378",
   "metadata": {},
   "outputs": [
    {
     "data": {
      "text/plain": [
       "numpy.ndarray"
      ]
     },
     "execution_count": 6,
     "metadata": {},
     "output_type": "execute_result"
    }
   ],
   "source": [
    "type(arr1) # Dùng lệnh này để xem kiểu của biến"
   ]
  },
  {
   "cell_type": "code",
   "execution_count": null,
   "id": "cb898541",
   "metadata": {},
   "outputs": [],
   "source": []
  }
 ],
 "metadata": {
  "kernelspec": {
   "display_name": "Python 3",
   "language": "python",
   "name": "python3"
  },
  "language_info": {
   "codemirror_mode": {
    "name": "ipython",
    "version": 3
   },
   "file_extension": ".py",
   "mimetype": "text/x-python",
   "name": "python",
   "nbconvert_exporter": "python",
   "pygments_lexer": "ipython3",
   "version": "3.8.5"
  }
 },
 "nbformat": 4,
 "nbformat_minor": 5
}
