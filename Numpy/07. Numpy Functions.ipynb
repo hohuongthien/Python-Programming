{
 "cells": [
  {
   "cell_type": "markdown",
   "id": "796e0432",
   "metadata": {},
   "source": [
    "# Some basic function in NumPy"
   ]
  },
  {
   "cell_type": "raw",
   "id": "8f7c140e",
   "metadata": {},
   "source": [
    "np.min() \t Return min value \t \n",
    "\n",
    "np.max()\t Return max value \t\t\n",
    "\n",
    "np.argmin()\t Return the index of min element\n",
    "\n",
    "np.argmax()\t Return the index of max element\n",
    "\n",
    "np.abs()\t Calculate the absolute value element-wise\n",
    "\n",
    "np.around()\t Round given number of decimals\n",
    "\n",
    "np.transpose() Reverse or permute the axes of an array\n",
    "\n",
    "np.dot(np)\t\t\t\t\t\t\n"
   ]
  },
  {
   "cell_type": "code",
   "execution_count": 1,
   "id": "44d09e9b",
   "metadata": {},
   "outputs": [],
   "source": [
    "import numpy as np\n",
    "x = np.array([1, 2, 3, 4])"
   ]
  },
  {
   "cell_type": "code",
   "execution_count": 2,
   "id": "c52aa9ec",
   "metadata": {},
   "outputs": [
    {
     "data": {
      "text/plain": [
       "3"
      ]
     },
     "execution_count": 2,
     "metadata": {},
     "output_type": "execute_result"
    }
   ],
   "source": [
    "# Lấy phần tử nhỏ nhất trong mảng\n",
    "x.min()\n",
    "\n",
    "# Lấy phần tử lớn nhất trong mảng\n",
    "x.max()\n",
    "\n",
    "# Lấy vị trí phần tử nhỏ nhất trong mảng\n",
    "x.argmin()\n",
    "\n",
    "# Lấy vị trí phần tử lớn nhất trong mảng\n",
    "x.argmax()"
   ]
  },
  {
   "cell_type": "markdown",
   "id": "799c0668",
   "metadata": {},
   "source": [
    "Tham khảo thêm\n",
    "https://medium0.com/m/global-identity?redirectUrl=https%3A%2F%2Ftowardsdatascience.com%2F10-numpy-functions-you-should-know-1dc4863764c5"
   ]
  }
 ],
 "metadata": {
  "kernelspec": {
   "display_name": "Python 3",
   "language": "python",
   "name": "python3"
  },
  "language_info": {
   "codemirror_mode": {
    "name": "ipython",
    "version": 3
   },
   "file_extension": ".py",
   "mimetype": "text/x-python",
   "name": "python",
   "nbconvert_exporter": "python",
   "pygments_lexer": "ipython3",
   "version": "3.8.5"
  }
 },
 "nbformat": 4,
 "nbformat_minor": 5
}
