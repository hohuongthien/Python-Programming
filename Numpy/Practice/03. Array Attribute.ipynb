{
 "cells": [
  {
   "cell_type": "raw",
   "id": "fcd5eedd",
   "metadata": {},
   "source": [
    "1.  Tạo một mảng 2 chiều với các giá trị sau.\n",
    "        [12 12 43]\n",
    "        [64 57 16]\n",
    "- In ra số dòng, số cột của mảng vừa tạo        \n",
    "- In ra số phần tử có trong mảng."
   ]
  },
  {
   "cell_type": "code",
   "execution_count": null,
   "id": "f96a2761",
   "metadata": {},
   "outputs": [],
   "source": []
  },
  {
   "cell_type": "raw",
   "id": "398c19c6",
   "metadata": {},
   "source": [
    "2. Tạo một mảng 1 chiều với 10 giá trị random integer. Sau đó in ra số chiều của mảng vừa tạo."
   ]
  },
  {
   "cell_type": "code",
   "execution_count": null,
   "id": "c7145c36",
   "metadata": {},
   "outputs": [],
   "source": []
  },
  {
   "cell_type": "raw",
   "id": "2ade64bf",
   "metadata": {},
   "source": [
    "3. Tạo một mảng 2 chiều 3 dòng 4 cột.\n",
    "- Chuyển ma trận vừa tạo thành ma trận có 2 dòng 6 cột.\n",
    "- In ra số chiều của ma trận vừa chuyển"
   ]
  },
  {
   "cell_type": "code",
   "execution_count": null,
   "id": "54a986bd",
   "metadata": {},
   "outputs": [],
   "source": []
  },
  {
   "cell_type": "raw",
   "id": "5cf42b09",
   "metadata": {},
   "source": [
    "4. Tạo một mảng 2 chiều với các giá trị sau.\n",
    "        [12 12 45]\n",
    "        [64 37 16]\n",
    "- Chuyển ma trận vừa tạo thành mảng 1 chiều.\n",
    "- In ra số phần tử có trong mảng."
   ]
  },
  {
   "cell_type": "code",
   "execution_count": null,
   "id": "4800a27b",
   "metadata": {},
   "outputs": [],
   "source": []
  },
  {
   "cell_type": "raw",
   "id": "d71e38a7",
   "metadata": {},
   "source": [
    "5. Tạo một mảng có các giá trị intege như sau: [51 12 73 24 55]\n",
    "- Chuyển kiểu dữ liệu của mảng này thành dtype = float\n",
    "- In ra kết quả của ma trận vừa chuyển kiểu dữ liệu."
   ]
  },
  {
   "cell_type": "code",
   "execution_count": null,
   "id": "474f0645",
   "metadata": {},
   "outputs": [],
   "source": []
  },
  {
   "cell_type": "raw",
   "id": "676f7d73",
   "metadata": {},
   "source": [
    "6. Tạo một mảng có các phần tử như sau: [51 32 12 18 73 14 24 55 21 32 22 65]\n",
    "- Chuyển mảng vừa tạo thành ma trận có 3 dòng 4 cột\n",
    "- In ra số dòng số cột của ma trận vừa chuyển.\n",
    "- In ra chiều của mả trận vừa chuyển."
   ]
  },
  {
   "cell_type": "code",
   "execution_count": null,
   "id": "5603db9d",
   "metadata": {},
   "outputs": [],
   "source": []
  },
  {
   "cell_type": "raw",
   "id": "8217c287",
   "metadata": {},
   "source": [
    "7. Tạo một ma trận như sau:\n",
    "    [1, 2, 3, 4]\n",
    "    [5, 6, 7, 8]\n",
    "    [9,10,11,12]\n",
    "- Chuyển ma trận trên về dạng List.\n",
    "- In kiểu và giá trị của List vừa tạo."
   ]
  },
  {
   "cell_type": "code",
   "execution_count": null,
   "id": "763e5e31",
   "metadata": {},
   "outputs": [],
   "source": []
  }
 ],
 "metadata": {
  "kernelspec": {
   "display_name": "Python 3",
   "language": "python",
   "name": "python3"
  },
  "language_info": {
   "codemirror_mode": {
    "name": "ipython",
    "version": 3
   },
   "file_extension": ".py",
   "mimetype": "text/x-python",
   "name": "python",
   "nbconvert_exporter": "python",
   "pygments_lexer": "ipython3",
   "version": "3.8.5"
  }
 },
 "nbformat": 4,
 "nbformat_minor": 5
}
