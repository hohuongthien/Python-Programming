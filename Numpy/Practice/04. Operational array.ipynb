{
 "cells": [
  {
   "cell_type": "raw",
   "id": "c31d8ac0",
   "metadata": {},
   "source": [
    "1. Tạo ma trận M1 có giá trị như sau:\n",
    "        [2 11 8]\n",
    "        [6  9 1]\n",
    "    Tạo ma trận M2 có giá trị như sau:\n",
    "        [3 6 1 2]\n",
    "        [4 2 1 7]\n",
    "        [2 5 9 1]"
   ]
  },
  {
   "cell_type": "code",
   "execution_count": null,
   "id": "fce26f7b",
   "metadata": {},
   "outputs": [],
   "source": []
  },
  {
   "cell_type": "raw",
   "id": "eba9793e",
   "metadata": {},
   "source": [
    "2. Slicing 1 ma trận kích thước 2x3 từ ma trận M2\n",
    "   (chọn vị trí tùy ý miễn đạt đc yêu cầu 2 dòng 3 cột)"
   ]
  },
  {
   "cell_type": "code",
   "execution_count": null,
   "id": "6b0cdb67",
   "metadata": {},
   "outputs": [],
   "source": []
  },
  {
   "cell_type": "raw",
   "id": "85e88a58",
   "metadata": {},
   "source": [
    "3. Cộng ma trận M1 với ma trận vừa tạo ra ở bài 2"
   ]
  },
  {
   "cell_type": "code",
   "execution_count": null,
   "id": "6689f021",
   "metadata": {},
   "outputs": [],
   "source": []
  },
  {
   "cell_type": "raw",
   "id": "382a1ccc",
   "metadata": {},
   "source": [
    "4. Tính ma trận mới M4 = M2*3"
   ]
  },
  {
   "cell_type": "code",
   "execution_count": null,
   "id": "3ab7449c",
   "metadata": {},
   "outputs": [],
   "source": []
  },
  {
   "cell_type": "raw",
   "id": "be252c7c",
   "metadata": {},
   "source": [
    "5. "
   ]
  },
  {
   "cell_type": "code",
   "execution_count": null,
   "id": "2fcb7330",
   "metadata": {},
   "outputs": [],
   "source": []
  },
  {
   "cell_type": "raw",
   "id": "f6cebeb4",
   "metadata": {},
   "source": [
    "6."
   ]
  },
  {
   "cell_type": "code",
   "execution_count": null,
   "id": "d0aee6a1",
   "metadata": {},
   "outputs": [],
   "source": []
  },
  {
   "cell_type": "raw",
   "id": "bc2731ae",
   "metadata": {},
   "source": [
    "7. "
   ]
  }
 ],
 "metadata": {
  "kernelspec": {
   "display_name": "Python 3",
   "language": "python",
   "name": "python3"
  },
  "language_info": {
   "codemirror_mode": {
    "name": "ipython",
    "version": 3
   },
   "file_extension": ".py",
   "mimetype": "text/x-python",
   "name": "python",
   "nbconvert_exporter": "python",
   "pygments_lexer": "ipython3",
   "version": "3.8.5"
  }
 },
 "nbformat": 4,
 "nbformat_minor": 5
}
