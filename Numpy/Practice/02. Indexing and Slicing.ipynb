{
 "cells": [
  {
   "cell_type": "raw",
   "id": "eb2aa425",
   "metadata": {},
   "source": [
    "1. Tạo một mảng 1 chiều với 5 giá trị random, sau đó truy xuất và lấy ra phần tử thứ 3 của mảng."
   ]
  },
  {
   "cell_type": "code",
   "execution_count": null,
   "id": "d9623da6",
   "metadata": {},
   "outputs": [],
   "source": []
  },
  {
   "cell_type": "raw",
   "id": "51d36978",
   "metadata": {},
   "source": [
    "2. Tạo một mảng 1 chiều với 8 giá trị random integer, sau đó truy xuất và lấy ra phần tử đầu tiên đến phần tử thứ 5."
   ]
  },
  {
   "cell_type": "code",
   "execution_count": null,
   "id": "e5cf2a91",
   "metadata": {},
   "outputs": [],
   "source": []
  },
  {
   "cell_type": "raw",
   "id": "ccb22d19",
   "metadata": {},
   "source": [
    "3. Khởi tạo ma trận có giá trị như sau:\n",
    "    [ 1  2  3  4]\n",
    "    [ 5  6  7  8]\n",
    "    [ 9 10 11 12]\n",
    "Lấy ra giá trị dòng thứ 2\n",
    "    [ 5 6 7 8 ] "
   ]
  },
  {
   "cell_type": "code",
   "execution_count": null,
   "id": "b367f4bd",
   "metadata": {},
   "outputs": [],
   "source": []
  },
  {
   "cell_type": "raw",
   "id": "4c287f48",
   "metadata": {},
   "source": [
    "4. 3. Khởi tạo ma trận có giá trị như sau:\n",
    "    [ 1  2  3  4]\n",
    "    [ 5  6  7  8]\n",
    "    [ 9 10 11 12]\n",
    "Lấy ra giá trị cột thứ 3 và 4\n",
    "    [  3  4 ]\n",
    "    [  7  8 ]\n",
    "    [ 11 12 ]"
   ]
  },
  {
   "cell_type": "code",
   "execution_count": null,
   "id": "a3a32444",
   "metadata": {},
   "outputs": [],
   "source": []
  },
  {
   "cell_type": "raw",
   "id": "700f83a8",
   "metadata": {},
   "source": [
    "5. Khởi tạo ma trận có giá trị như sau:\n",
    "    [ 1  2  3  4]\n",
    "    [ 5  6  7  8]\n",
    "    [ 9 10 11 12]\n",
    "Lấy ra một ma trận con có giá trị như ma trận sau:\n",
    "    [ 6  7]\n",
    "    [10 11]"
   ]
  },
  {
   "cell_type": "code",
   "execution_count": null,
   "id": "34c5b907",
   "metadata": {},
   "outputs": [],
   "source": []
  },
  {
   "cell_type": "raw",
   "id": "a7dc4edb",
   "metadata": {},
   "source": [
    "6. Tạo một mảng có giá trị như sau: array([13, 21, 23, 42, 15, 26, 72])\n",
    "Xuất ra mảng đảo ngược của mảng trên."
   ]
  },
  {
   "cell_type": "code",
   "execution_count": null,
   "id": "660a969e",
   "metadata": {},
   "outputs": [],
   "source": []
  },
  {
   "cell_type": "raw",
   "id": "0b521584",
   "metadata": {},
   "source": [
    "7. Tạo một mảng có giá trị như sau: array([13, 21, 23, 42, 15, 26, 72])\n",
    "Xuất ra các phần tử có vị trí chẵn ở mảng trên."
   ]
  },
  {
   "cell_type": "code",
   "execution_count": null,
   "id": "34181d1b",
   "metadata": {},
   "outputs": [],
   "source": []
  },
  {
   "cell_type": "raw",
   "id": "39109c6e",
   "metadata": {},
   "source": [
    "8. 3. Khởi tạo ma trận có giá trị như sau:\n",
    "    [ 11 22 24 14]\n",
    "    [ 52 16 37 28]\n",
    "    [ 91 14 31 12]\n",
    "Lấy ra giá trị của 2 dòng đầu tiên\n",
    "     [ 11 22 24 14]\n",
    "     [ 52 16 37 28]"
   ]
  },
  {
   "cell_type": "code",
   "execution_count": null,
   "id": "63da7299",
   "metadata": {},
   "outputs": [],
   "source": []
  },
  {
   "cell_type": "raw",
   "id": "d1a340ce",
   "metadata": {},
   "source": [
    "9. "
   ]
  },
  {
   "cell_type": "code",
   "execution_count": null,
   "id": "3a028675",
   "metadata": {},
   "outputs": [],
   "source": []
  },
  {
   "cell_type": "raw",
   "id": "ed6d046f",
   "metadata": {},
   "source": [
    "10. "
   ]
  },
  {
   "cell_type": "code",
   "execution_count": null,
   "id": "ab82f786",
   "metadata": {},
   "outputs": [],
   "source": []
  }
 ],
 "metadata": {
  "kernelspec": {
   "display_name": "Python 3",
   "language": "python",
   "name": "python3"
  },
  "language_info": {
   "codemirror_mode": {
    "name": "ipython",
    "version": 3
   },
   "file_extension": ".py",
   "mimetype": "text/x-python",
   "name": "python",
   "nbconvert_exporter": "python",
   "pygments_lexer": "ipython3",
   "version": "3.8.5"
  }
 },
 "nbformat": 4,
 "nbformat_minor": 5
}
