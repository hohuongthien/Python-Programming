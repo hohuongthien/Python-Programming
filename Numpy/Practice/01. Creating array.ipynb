{
 "cells": [
  {
   "cell_type": "markdown",
   "id": "28d26a2e",
   "metadata": {},
   "source": [
    "01. Tạo mảng 1 chiều với 5 phần tử có giá trị float ngẫu nhiên."
   ]
  },
  {
   "cell_type": "code",
   "execution_count": null,
   "id": "2b23d3ef",
   "metadata": {},
   "outputs": [],
   "source": []
  },
  {
   "cell_type": "markdown",
   "id": "f07e90b8",
   "metadata": {},
   "source": [
    "02. Tạo mảng 1 chiều với 10 phần tử có giá trị integer trong khoản 1-10"
   ]
  },
  {
   "cell_type": "code",
   "execution_count": null,
   "id": "e68acf10",
   "metadata": {},
   "outputs": [],
   "source": []
  },
  {
   "cell_type": "markdown",
   "id": "48f5aafc",
   "metadata": {},
   "source": [
    "03. Tạo mảng 2 chiều 3 dòng, 4 cột với giá trị integer ngẫu nhiên."
   ]
  },
  {
   "cell_type": "code",
   "execution_count": null,
   "id": "d9c98e86",
   "metadata": {},
   "outputs": [],
   "source": []
  },
  {
   "cell_type": "markdown",
   "id": "9c565cda",
   "metadata": {},
   "source": [
    "04. Tạo mảng 2 chiều 4 dòng, 5 cột với giá trị ngẫu nhiên trong khoản 3-9"
   ]
  },
  {
   "cell_type": "code",
   "execution_count": null,
   "id": "07cf562d",
   "metadata": {},
   "outputs": [],
   "source": []
  },
  {
   "cell_type": "markdown",
   "id": "821a6f9d",
   "metadata": {},
   "source": [
    "05. Tạo mảng 1 chiều 5 phần tử với giá trị float trong khoản 20-30"
   ]
  },
  {
   "cell_type": "code",
   "execution_count": null,
   "id": "e85d6183",
   "metadata": {},
   "outputs": [],
   "source": []
  },
  {
   "cell_type": "markdown",
   "id": "1cb10cad",
   "metadata": {},
   "source": [
    "06. Tạo một mảng 3 chiều, mỗi chiều là một ma trận 3 dòng 4 cột."
   ]
  },
  {
   "cell_type": "code",
   "execution_count": null,
   "id": "4ec17130",
   "metadata": {},
   "outputs": [],
   "source": []
  },
  {
   "cell_type": "markdown",
   "id": "80c7dce7",
   "metadata": {},
   "source": [
    "7. Tạo một ma trân zero 4 dòng, 5 cột."
   ]
  },
  {
   "cell_type": "code",
   "execution_count": null,
   "id": "9e1701bc",
   "metadata": {},
   "outputs": [],
   "source": []
  },
  {
   "cell_type": "raw",
   "id": "f1a76f9c",
   "metadata": {},
   "source": [
    "8. Tạo một ma trận như sau, sử dụng hàm range()\n",
    "[ 2,  6, 10, 14]"
   ]
  },
  {
   "cell_type": "code",
   "execution_count": null,
   "id": "259012be",
   "metadata": {},
   "outputs": [],
   "source": []
  },
  {
   "cell_type": "raw",
   "id": "6065db75",
   "metadata": {},
   "source": [
    "9. Tạo ma trận với dữ liệu cho sẵn như sau:\n",
    "    ['Thứ Hai', 'Thứ Ba','Thứ Tư','Thứ Năm']"
   ]
  },
  {
   "cell_type": "code",
   "execution_count": null,
   "id": "f4929480",
   "metadata": {},
   "outputs": [],
   "source": []
  },
  {
   "cell_type": "raw",
   "id": "ce2ec978",
   "metadata": {},
   "source": [
    "10. Tạo một list danh sách tên như sau:\n",
    "        List = ['Văn','Hưng','Phong','Lê']\n",
    "    Tạo một mảng từ danh sách vừa tạo trên."
   ]
  },
  {
   "cell_type": "code",
   "execution_count": null,
   "id": "dd966cab",
   "metadata": {},
   "outputs": [],
   "source": []
  },
  {
   "cell_type": "markdown",
   "id": "73f48553",
   "metadata": {},
   "source": [
    "11. Tạo một ma trận lưu thông tin SV, với dữ liệu như sau:"
   ]
  },
  {
   "cell_type": "raw",
   "id": "8f8c23f1",
   "metadata": {},
   "source": [
    "'id', 'Name', 'Percentage', 'Result'\n",
    "101, 'Tâm', 80, 'pass'\n",
    "102, 'Thịnh', 75, 'pass'\n",
    "103, 'An',33, 'fail'\n",
    "104, 'Thanh',52, 'pass'"
   ]
  },
  {
   "cell_type": "code",
   "execution_count": null,
   "id": "18c0b99c",
   "metadata": {},
   "outputs": [],
   "source": []
  }
 ],
 "metadata": {
  "kernelspec": {
   "display_name": "Python 3",
   "language": "python",
   "name": "python3"
  },
  "language_info": {
   "codemirror_mode": {
    "name": "ipython",
    "version": 3
   },
   "file_extension": ".py",
   "mimetype": "text/x-python",
   "name": "python",
   "nbconvert_exporter": "python",
   "pygments_lexer": "ipython3",
   "version": "3.8.5"
  }
 },
 "nbformat": 4,
 "nbformat_minor": 5
}
