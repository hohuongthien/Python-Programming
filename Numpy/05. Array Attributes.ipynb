{
 "cells": [
  {
   "cell_type": "markdown",
   "id": "f841ba3a",
   "metadata": {},
   "source": [
    "# Shape attribue\n",
    "Thuộc tính shape cho chúng ta biết chiều của mảng (số dòng, số cột)\n",
    "Thuộc tính này còn được dùng để định dạng lại kích thước của mảng.\n"
   ]
  },
  {
   "cell_type": "code",
   "execution_count": 5,
   "id": "8b75fe31",
   "metadata": {},
   "outputs": [
    {
     "name": "stdout",
     "output_type": "stream",
     "text": [
      "(2, 3)\n",
      "[[1 2 3]\n",
      " [4 5 6]]\n"
     ]
    }
   ],
   "source": [
    "import numpy as np\n",
    "\n",
    "a = np.array([[1,2,3],[4,5,6]]) # Mảng 2 chiều (2 dòng, 3 cột)\n",
    "print (a.shape) # Xuất ra số dòng, số cột của mảng\n",
    "print(a)"
   ]
  },
  {
   "cell_type": "code",
   "execution_count": 6,
   "id": "0b45bbf6",
   "metadata": {
    "scrolled": true
   },
   "outputs": [
    {
     "name": "stdout",
     "output_type": "stream",
     "text": [
      "(3, 2)\n",
      "[[1 2]\n",
      " [3 4]\n",
      " [5 6]]\n"
     ]
    }
   ],
   "source": [
    "# Dùng thuộc tính shape để định dạng lại kích thước của mảng a trên\n",
    "a.shape = (3,2)\n",
    "print(a.shape)\n",
    "print(a)"
   ]
  },
  {
   "cell_type": "markdown",
   "id": "02766721",
   "metadata": {},
   "source": [
    "# reshape attribute"
   ]
  },
  {
   "cell_type": "code",
   "execution_count": 21,
   "id": "bdae5409",
   "metadata": {},
   "outputs": [
    {
     "name": "stdout",
     "output_type": "stream",
     "text": [
      "(2, 3)\n",
      "[[1 2]\n",
      " [3 4]\n",
      " [5 6]]\n"
     ]
    }
   ],
   "source": [
    "# Ngoài ra Numpy còn cung cấp function reshape() cũng mới mục đích định dạng lại kích thước của mảng\n",
    "# cấu trúc câu lệnh khác đôi chút so với thuộc tính shape\n",
    "\n",
    "a = np.array([[1,2,3],[4,5,6]]) # Mảng 2 chiều (2 dòng, 3 cột)\n",
    "print (a.shape) # Xuất ra số dòng, số cột của mảng\n",
    "\n",
    "# Sử dụng function reshape()\n",
    "b = a.reshape(3,2)\n",
    "print(b)\n"
   ]
  },
  {
   "cell_type": "code",
   "execution_count": 23,
   "id": "9d496a82",
   "metadata": {},
   "outputs": [
    {
     "name": "stdout",
     "output_type": "stream",
     "text": [
      "[[[ 1  2]\n",
      "  [ 3  4]\n",
      "  [ 5  6]]\n",
      "\n",
      " [[ 7  8]\n",
      "  [ 9 10]\n",
      "  [11 12]]]\n",
      "3\n"
     ]
    }
   ],
   "source": [
    "# Chuyển mảng từ 1 chiều thành 3 chiều\n",
    "import numpy as np\n",
    "arr = np.array([1, 2, 3, 4, 5, 6, 7, 8, 9, 10, 11, 12])\n",
    "\n",
    "newarr = arr.reshape(2, 3, 2) # Định dạng thành 2 mảng con, mỗi mảng con gồm 3 dòng 2 cột\n",
    "\n",
    "print(newarr) \n",
    "print(newarr.ndim)"
   ]
  },
  {
   "cell_type": "markdown",
   "id": "74426b7b",
   "metadata": {},
   "source": [
    "# ndim attribute\n",
    "Thuộc tính này dùng để xem chiều của 1 mảng"
   ]
  },
  {
   "cell_type": "code",
   "execution_count": 1,
   "id": "87225812",
   "metadata": {},
   "outputs": [
    {
     "name": "stdout",
     "output_type": "stream",
     "text": [
      "2\n"
     ]
    }
   ],
   "source": [
    "import numpy as np\n",
    "a = np.array([[1,2,3],[4,5,6]]) # Mảng 2 chiều (2 dòng, 3 cột)\n",
    "\n",
    "print(a.ndim) # Xuất ra số chiều của 1 mảng"
   ]
  },
  {
   "cell_type": "markdown",
   "id": "05098aa9",
   "metadata": {},
   "source": [
    "# size attribute\n",
    "Thuộc tính này dùng để đếm các phần tử có trong mảng hoặc ma trận."
   ]
  },
  {
   "cell_type": "code",
   "execution_count": 3,
   "id": "71a3227a",
   "metadata": {},
   "outputs": [
    {
     "name": "stdout",
     "output_type": "stream",
     "text": [
      "6\n"
     ]
    }
   ],
   "source": [
    "import numpy as np\n",
    "a = np.array([[1,2,3],[4,5,6]]) # Mảng 2 chiều (2 dòng, 3 cột)\n",
    "\n",
    "print(a.size) # Xuất ra số chiều của 1 mảng"
   ]
  },
  {
   "cell_type": "markdown",
   "id": "3fcf5bed",
   "metadata": {},
   "source": [
    "# itemsize attribute\n",
    "Thuộc tính này dùng để xem độ dài của elements trong mảng"
   ]
  },
  {
   "cell_type": "code",
   "execution_count": 12,
   "id": "017c3757",
   "metadata": {},
   "outputs": [
    {
     "name": "stdout",
     "output_type": "stream",
     "text": [
      "1\n"
     ]
    }
   ],
   "source": [
    "# Ví dụ 1: dtype of array is int8 (1 byte)\n",
    "\n",
    "import numpy as np \n",
    "x = np.array([1,2,3,4,5], dtype = np.int8) \n",
    "print (x.itemsize)\n",
    "\n",
    "#=========================================================================#\n",
    "# Ví dụ 2: dtype of array is now float32 (4 bytes)\n",
    "\n",
    "import numpy as np \n",
    "x = np.array([1,2,3,4,5], dtype = np.float32) \n",
    "print (x.itemsize)"
   ]
  },
  {
   "cell_type": "markdown",
   "id": "3ad9e443",
   "metadata": {},
   "source": [
    "# dtypye attribute\n",
    "Thuộc tính này để xem kiểu dữ liệu của các element trong mảng"
   ]
  },
  {
   "cell_type": "code",
   "execution_count": 3,
   "id": "4f02a794",
   "metadata": {},
   "outputs": [
    {
     "name": "stdout",
     "output_type": "stream",
     "text": [
      "int32\n"
     ]
    }
   ],
   "source": [
    "# Ví dụ 2: dtype of array is now float32 (4 bytes)\n",
    "\n",
    "import numpy as np \n",
    "x = np.array([1,2,3,4,5]) \n",
    "print (x.dtype)"
   ]
  },
  {
   "cell_type": "markdown",
   "id": "20a364bd",
   "metadata": {},
   "source": [
    "# flattening array"
   ]
  },
  {
   "cell_type": "code",
   "execution_count": 6,
   "id": "9d5b1061",
   "metadata": {},
   "outputs": [
    {
     "data": {
      "text/plain": [
       "array([1, 2, 3, 4, 5, 6])"
      ]
     },
     "execution_count": 6,
     "metadata": {},
     "output_type": "execute_result"
    }
   ],
   "source": [
    "import numpy as np\n",
    "\n",
    "# Làm phẳng mảng 2 chiều thành 1 chiều\n",
    "a = np.array([[1, 2, 3], [4, 5, 6]])\n",
    "\n",
    "a.ravel()"
   ]
  },
  {
   "cell_type": "code",
   "execution_count": 7,
   "id": "9d8477ee",
   "metadata": {},
   "outputs": [
    {
     "name": "stdout",
     "output_type": "stream",
     "text": [
      "[[1 2 3]\n",
      " [4 5 6]]\n"
     ]
    }
   ],
   "source": [
    "print (a)"
   ]
  },
  {
   "cell_type": "markdown",
   "id": "93531414",
   "metadata": {},
   "source": [
    "# Convert array to list"
   ]
  },
  {
   "cell_type": "code",
   "execution_count": 3,
   "id": "7fffb935",
   "metadata": {},
   "outputs": [
    {
     "data": {
      "text/plain": [
       "[1, 2, 3, 4, 5, 6]"
      ]
     },
     "execution_count": 3,
     "metadata": {},
     "output_type": "execute_result"
    }
   ],
   "source": [
    "import numpy as np\n",
    "\n",
    "a = np.array([[1, 2, 3], [4, 5, 6]])\n",
    "\n",
    "a.tolist()"
   ]
  },
  {
   "cell_type": "markdown",
   "id": "9d4d1a55",
   "metadata": {},
   "source": [
    "Link tham khảo\n",
    "https://scipy-lectures.org/intro/numpy/operations.html#other-operations"
   ]
  }
 ],
 "metadata": {
  "kernelspec": {
   "display_name": "Python 3",
   "language": "python",
   "name": "python3"
  },
  "language_info": {
   "codemirror_mode": {
    "name": "ipython",
    "version": 3
   },
   "file_extension": ".py",
   "mimetype": "text/x-python",
   "name": "python",
   "nbconvert_exporter": "python",
   "pygments_lexer": "ipython3",
   "version": "3.8.5"
  }
 },
 "nbformat": 4,
 "nbformat_minor": 5
}
