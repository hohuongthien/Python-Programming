{
 "cells": [
  {
   "cell_type": "markdown",
   "id": "6f46eb64",
   "metadata": {},
   "source": [
    "# Khởi tạo mảng"
   ]
  },
  {
   "cell_type": "code",
   "execution_count": 19,
   "id": "1820942c",
   "metadata": {},
   "outputs": [
    {
     "name": "stdout",
     "output_type": "stream",
     "text": [
      "[[0 0]\n",
      " [0 0]\n",
      " [0 0]]\n",
      "[[0 0 0 0]\n",
      " [0 0 0 0]\n",
      " [0 0 0 0]]\n"
     ]
    }
   ],
   "source": [
    "import numpy as np\n",
    "\n",
    "# Tạo một mảng emty\n",
    "import numpy as np \n",
    "x = np.empty([3,2],dtype=int)\n",
    "print(x)\n",
    "\n",
    "#=============================================================================================#\n",
    "# Tạo 1 mảng 2 chiều 3x4 với các phần tử zero, kiểu dữ liệu int\n",
    "import numpy as np \n",
    "x = np.zeros([3,4],dtype=int)\n",
    "print(x)\n",
    "\n",
    "\n",
    "#=============================================================================================#\n",
    "# Khở tạo một mảng 2 chiều 2x3 voqai các phần tử = 1\n",
    "b = np.ones([2,3])\n",
    "\n",
    "\n",
    "#=============================================================================================#\n",
    "# Khởi tạo ma trận vuông đơn vị 5x5\n",
    "d = np.eye(5)\n",
    "\n",
    "\n",
    "#=============================================================================================#\n",
    "# Khởi tạo một ma trận 3x4 với giá trị ngẫu nhiên\n",
    "e = np.random.random((3,4))\n",
    "\n",
    "\n",
    "#=============================================================================================#\n",
    "# Khởi tạo một ma trận giá trị ngẫu nhiên là integer\n",
    "# Syntax của hàm như sau: random.randint(low, high=None, size=None, dtype=int)\n",
    "# Ý nghĩa: tạo một mảng/ma trận với giá trị integer ngẫu nhiên trong khoản LOW-HIGHT\n",
    "\n",
    "np.random.randint(4, size=10) # Khởi tạo một mảng ngẫu nhiên 10 phần tử với giá trị từ 0-3\n",
    "np.random.randint(5, 9, size=(3,4)) # Khởi tạo một ma trận 3x4 với giá trị ngẫu nhiên từ 5-8\n",
    "\n",
    "\n",
    "#=============================================================================================#\n",
    "# syntax của hàm arange như sau: numpy.arange([start, ]stop, [step, ], dtype=None)\n",
    "# Khởi tạo một mảng với các giá trị từ 0-9\n",
    "f = np.arange(10)\n",
    "\n",
    "# Mảng nhận được sẽ là array([1, 4, 7])\n",
    "np.arange(start=1, stop=10, step=3)\n",
    "\n",
    "\n",
    "#=============================================================================================#\n",
    "# Khởi tạo mảng 1 chiều với 10 phần tử có giá trị từ 1-5\n",
    "np.linspace(1,5,10)"
   ]
  },
  {
   "cell_type": "markdown",
   "id": "9a1ca253",
   "metadata": {},
   "source": [
    "# Tạo mảng: 1 chiều, 2 chiều, 3 chiều..."
   ]
  },
  {
   "cell_type": "code",
   "execution_count": 14,
   "id": "1bcdc130",
   "metadata": {},
   "outputs": [
    {
     "name": "stdout",
     "output_type": "stream",
     "text": [
      "[[1 2 3]\n",
      " [4 5 6]\n",
      " [4 5 6]]\n"
     ]
    }
   ],
   "source": [
    "import numpy as np\n",
    "\n",
    "# Tạo mảng 0-Array (mảng 0 chiều, 1 giá trị được gọi là scalar)\n",
    "arr_0D = np.array(50)\n",
    "\n",
    "\n",
    "#=============================================================================================#\n",
    "# Tạo mảng 1-Array\n",
    "arr_1D = np.array([1, 2, 3, 4, 5])\n",
    "\n",
    "\n",
    "#=============================================================================================#\n",
    "# Tạo mảng 2-Array\n",
    "arr_2D = np.array([\n",
    "                    [1, 2, 3],\n",
    "                    [4, 5, 6],\n",
    "                    [4, 5, 6]])\n",
    "\n",
    "\n",
    "#=============================================================================================#\n",
    "# Tạo mảng 3-Array với mỗi chiều là một ma trận 3x4\n",
    "arr_3D = np.array([\n",
    "                    [[0, 1, 1,5], [1, 0, 1, 2], [1, 1, 0, 9]],\n",
    "                    [[0, 1, 1, 3], [1, 0, 1, 8], [1, 1, 0, 7]],\n",
    "                    [[0, 1, 1, 10], [1, 0, 1, 14], [1, 1, 0, 4]]\n",
    "                    ])\n"
   ]
  },
  {
   "cell_type": "markdown",
   "id": "c6a9fb66",
   "metadata": {},
   "source": [
    "# Tạo mảng từ dữ liệu có sẵn\n",
    "Dữ liệu có sẵn ở đây có thể là list, tuple"
   ]
  },
  {
   "cell_type": "code",
   "execution_count": 6,
   "id": "5e55caeb",
   "metadata": {},
   "outputs": [
    {
     "name": "stdout",
     "output_type": "stream",
     "text": [
      "[[1 2 3]\n",
      " [5 9 4]\n",
      " [9 3 0]]\n"
     ]
    }
   ],
   "source": [
    "# Tạo một mảng từ một dữ liệu đã có sẵn\n",
    "import numpy as np \n",
    "\n",
    "x = [1,2,3] # kiểu dữ liệu list\n",
    "\n",
    "y = (4,5,6) # kiểu dữ liệu tuple\n",
    "\n",
    "z = [(1,2,3),(4,5,6)] # Kiểu dữ liệu là 1 list các tuple\n",
    "\n",
    "q = [[1,2,3],[5,9,4],[9,3,0]] # kiểu dữ liệu là list các list (nested-list)\n",
    "\n",
    "str = [\"Hello\",\"world!\"] # Kiểu dữ liệu là 1 list các string\n",
    "\n",
    "a = np.asarray(q)\n",
    "\n",
    "print(a)\n"
   ]
  },
  {
   "cell_type": "markdown",
   "id": "9d09df7e",
   "metadata": {},
   "source": [
    "# Kiểm tra chiều của mảng"
   ]
  },
  {
   "cell_type": "code",
   "execution_count": 5,
   "id": "cb284de4",
   "metadata": {},
   "outputs": [
    {
     "name": "stdout",
     "output_type": "stream",
     "text": [
      "1\n"
     ]
    }
   ],
   "source": [
    "# chúng ta dùng method .ndim để kiểm tra chiều của 1 mảng\n",
    "\n",
    "print(arr_1D.ndim)"
   ]
  },
  {
   "cell_type": "code",
   "execution_count": null,
   "id": "3486de61",
   "metadata": {},
   "outputs": [],
   "source": []
  }
 ],
 "metadata": {
  "kernelspec": {
   "display_name": "Python 3",
   "language": "python",
   "name": "python3"
  },
  "language_info": {
   "codemirror_mode": {
    "name": "ipython",
    "version": 3
   },
   "file_extension": ".py",
   "mimetype": "text/x-python",
   "name": "python",
   "nbconvert_exporter": "python",
   "pygments_lexer": "ipython3",
   "version": "3.8.5"
  }
 },
 "nbformat": 4,
 "nbformat_minor": 5
}
