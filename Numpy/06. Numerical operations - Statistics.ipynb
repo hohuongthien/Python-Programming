{
 "cells": [
  {
   "cell_type": "markdown",
   "id": "5cc80db7",
   "metadata": {},
   "source": [
    "# Basic operations"
   ]
  },
  {
   "cell_type": "markdown",
   "id": "3eb73aed",
   "metadata": {
    "scrolled": true
   },
   "source": [
    "Operator \tEquivalent ufunc \tDescription\n",
    "+ \t        np.add \t            Addition (e.g., 1 + 1 = 2)\n",
    "- \t        np.subtract \t    Subtraction (e.g., 3 - 2 = 1)\n",
    "- \t        np.negative \t    Unary negation (e.g., -2)\n",
    "* \t        np.multiply \t    Multiplication (e.g., 2 * 3 = 6)\n",
    "/ \t        np.divide \t        Division (e.g., 3 / 2 = 1.5)\n",
    "// \t        np.floor_divide \tFloor division (e.g., 3 // 2 = 1)\n",
    "** \t        np.power \t        Exponentiation (e.g., 2 ** 3 = 8)\n",
    "% \t        np.mod \t            Modulus/remainder (e.g., 9 % 4 = 1)"
   ]
  },
  {
   "cell_type": "code",
   "execution_count": 4,
   "id": "0452f305",
   "metadata": {},
   "outputs": [
    {
     "name": "stdout",
     "output_type": "stream",
     "text": [
      "[2 4]\n"
     ]
    }
   ],
   "source": [
    "import numpy as np\n",
    "a = np.array([1, 2])\n",
    "\n",
    "# Nhân mảng a với 2\n",
    "b = a * 2\n",
    "print (b)"
   ]
  },
  {
   "cell_type": "code",
   "execution_count": 7,
   "id": "c7e87ac8",
   "metadata": {},
   "outputs": [
    {
     "data": {
      "text/plain": [
       "array([2, 8])"
      ]
     },
     "execution_count": 7,
     "metadata": {},
     "output_type": "execute_result"
    }
   ],
   "source": [
    "# Cộng 2 mảng\n",
    "a * b"
   ]
  },
  {
   "cell_type": "code",
   "execution_count": 6,
   "id": "256cc6ab",
   "metadata": {},
   "outputs": [
    {
     "name": "stdout",
     "output_type": "stream",
     "text": [
      "10\n"
     ]
    }
   ],
   "source": [
    "# Nhân các phần tử cùng dòng cùng cột sau đó + lại với nhau\n",
    "# c = a00*b00 + a01*b01\n",
    "\n",
    "c = a.dot(b)\n",
    "print(c)"
   ]
  },
  {
   "cell_type": "markdown",
   "id": "1cfe4fd8",
   "metadata": {},
   "source": [
    "# Basic reductions"
   ]
  },
  {
   "cell_type": "code",
   "execution_count": 38,
   "id": "22bd7be3",
   "metadata": {},
   "outputs": [
    {
     "data": {
      "text/plain": [
       "10"
      ]
     },
     "execution_count": 38,
     "metadata": {},
     "output_type": "execute_result"
    }
   ],
   "source": [
    "# Computing sums\n",
    "\n",
    "import numpy as np\n",
    "x = np.array([1, 2, 3, 4])\n",
    "\n",
    "# Tính tổng các phần tử trong mảng 1 chiều\n",
    "x.sum()\n",
    "\n",
    "# Tính tổng các phần tử trong mảng 2 chiều\n",
    "x = np.array([[1, 1], [2, 2]])\n",
    "\n",
    "# Tính theo cột trong mảng 2 chiều\n",
    "x0 = x.sum(axis=0)\n",
    "print(x0)\n",
    "\n",
    "# Tính theo hàng trong mảng 2 chiều\n",
    "x1 = x.sum(axis=1)\n",
    "print(x1)"
   ]
  },
  {
   "cell_type": "markdown",
   "id": "dc240cbd",
   "metadata": {},
   "source": [
    "# Statistics"
   ]
  },
  {
   "cell_type": "code",
   "execution_count": 52,
   "id": "4b98f8c5",
   "metadata": {},
   "outputs": [
    {
     "data": {
      "text/plain": [
       "array([3., 4., 2.])"
      ]
     },
     "execution_count": 52,
     "metadata": {},
     "output_type": "execute_result"
    }
   ],
   "source": [
    "import numpy as np\n",
    "\n",
    "x = np.array([1, 2, 3, 1])\n",
    "\n",
    "y = np.array([[1, 2, 3], [5, 6, 1]])\n",
    "\n",
    "# Tính giá trị trung bình cộng của các phần tử trong mảng\n",
    "x.mean()\n",
    "\n",
    "# Lấy giá trị trung vị của các phần tử trong mảng\n",
    "# Trung vị là giá trị giữa của các phần tử trong mảng sau khi được sắp xếp lại thứ tự\n",
    "np.median(x)\n",
    "\n"
   ]
  },
  {
   "cell_type": "code",
   "execution_count": null,
   "id": "f0873e1a",
   "metadata": {},
   "outputs": [],
   "source": []
  },
  {
   "cell_type": "code",
   "execution_count": null,
   "id": "b28d46f6",
   "metadata": {},
   "outputs": [],
   "source": []
  }
 ],
 "metadata": {
  "kernelspec": {
   "display_name": "Python 3",
   "language": "python",
   "name": "python3"
  },
  "language_info": {
   "codemirror_mode": {
    "name": "ipython",
    "version": 3
   },
   "file_extension": ".py",
   "mimetype": "text/x-python",
   "name": "python",
   "nbconvert_exporter": "python",
   "pygments_lexer": "ipython3",
   "version": "3.8.5"
  }
 },
 "nbformat": 4,
 "nbformat_minor": 5
}
